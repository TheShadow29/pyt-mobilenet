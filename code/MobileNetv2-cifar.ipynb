{
 "cells": [
  {
   "cell_type": "code",
   "execution_count": 1,
   "metadata": {},
   "outputs": [],
   "source": [
    "import matplotlib\n",
    "matplotlib.use('Agg')\n",
    "import sys\n",
    "# sys.path.append(\"/home/ec2-user/anaconda3/external/fastai/\")\n",
    "sys.path.append('/scratch/arka/miniconda3/external/fastai/')\n",
    "\n",
    "\n",
    "from tqdm import tqdm\n",
    "tqdm.monitor_interval = 0\n",
    "\n",
    "from fastai.imports import *\n",
    "from fastai.transforms import *\n",
    "from fastai.conv_learner import *\n",
    "from fastai.model import *\n",
    "from fastai.dataset import *\n",
    "from fastai.sgdr import *\n",
    "from fastai.plots import *\n",
    "import json\n",
    "import pandas as pd\n",
    "from sklearn.metrics import *"
   ]
  },
  {
   "cell_type": "code",
   "execution_count": 2,
   "metadata": {},
   "outputs": [],
   "source": [
    "%matplotlib inline\n",
    "%reload_ext autoreload\n",
    "%autoreload 2"
   ]
  },
  {
   "cell_type": "code",
   "execution_count": 3,
   "metadata": {},
   "outputs": [],
   "source": [
    "PATH = Path(\"/scratch/arka/miniconda3/external/fastai/courses/dl2/data/cifar10/\")\n",
    "classes = ('plane', 'car', 'bird', 'cat', 'deer', 'dog', 'frog', 'horse', 'ship', 'truck')\n",
    "stats = (np.array([ 0.4914 ,  0.48216,  0.44653]), np.array([ 0.24703,  0.24349,  0.26159]))\n",
    "def get_data(sz,bs):\n",
    "    tfms = tfms_from_stats(stats, sz, aug_tfms=[RandomFlip()], pad=sz//8)\n",
    "    return ImageClassifierData.from_paths(PATH, val_name='test', tfms=tfms, bs=bs)"
   ]
  },
  {
   "cell_type": "code",
   "execution_count": 4,
   "metadata": {},
   "outputs": [],
   "source": [
    "def total_model_params(summary):\n",
    "    total_params = 0\n",
    "    for key,value in summary.items():\n",
    "        total_params+=int(summary[key]['nb_params'])\n",
    "    print(\"Total parameters in the model :\"+str(total_params))"
   ]
  },
  {
   "cell_type": "code",
   "execution_count": 5,
   "metadata": {},
   "outputs": [],
   "source": [
    "bs=64\n",
    "sz=32"
   ]
  },
  {
   "cell_type": "code",
   "execution_count": 6,
   "metadata": {},
   "outputs": [],
   "source": [
    "class expand_depthwise_block(nn.Module):\n",
    "    ## Thanks to https://github.com/kuangliu/pytorch-cifar/blob/master/models/mobilenetv2.py\n",
    "    def __init__(self, in_c, out_c, expansion, stride):\n",
    "        super().__init__()\n",
    "        t = expansion\n",
    "        tk = in_c * t\n",
    "        self.stride = stride\n",
    "        self.l1 = nn.Sequential(nn.Conv2d(in_c, tk, 1, bias=False), nn.BatchNorm2d(tk), nn.ReLU6(inplace=True),\n",
    "                               nn.Conv2d(tk, tk, 3, groups=tk, padding=1, bias=False), nn.BatchNorm2d(tk), nn.ReLU6(inplace=True),\n",
    "                               nn.Conv2d(tk, out_c, 1, bias=False), nn.BatchNorm2d(out_c))\n",
    "        self.resd = nn.Sequential()\n",
    "        if stride == 1 and in_c != out_c:      \n",
    "            self.resd = nn.Sequential(nn.Conv2d(in_c, out_c, 1, bias=False), nn.BatchNorm2d(out_c))\n",
    "            \n",
    "    def forward(self, inp):\n",
    "        \n",
    "        out = self.l1(inp)\n",
    "        if self.stride == 1:\n",
    "            out = out + self.resd(inp)\n",
    "        return out"
   ]
  },
  {
   "cell_type": "code",
   "execution_count": 7,
   "metadata": {},
   "outputs": [],
   "source": [
    "class mblnetv2(nn.Module):\n",
    "    def __init__(self, block, inc_scale, inc_start, tuple_list, num_classes):\n",
    "        super().__init__()\n",
    "        # assuming tuple list of form:\n",
    "        # expansion, out_planes, num_blocks, stride \n",
    "        self.num_blocks = len(tuple_list)\n",
    "        self.in_planes = inc_start // inc_scale\n",
    "        self.conv1 = nn.Conv2d(3, self.in_planes, kernel_size=3, stride=1, padding=1, bias=False)\n",
    "        self.bn1 = nn.BatchNorm2d(self.in_planes)\n",
    "        lyrs = []\n",
    "        for expf, inc, nb, strl in tuple_list:\n",
    "            lyrs.append(self._make_layer(block, expf, inc, nb, strl))\n",
    "            \n",
    "        self.lyrs = nn.Sequential(*lyrs)\n",
    "        self.linear = nn.Linear(tuple_list[-1][1], num_classes)\n",
    "        \n",
    "    \n",
    "    def _make_layer(self, block, expf, planes, num_blocks, stride):\n",
    "        strides = [stride] + [1]*(num_blocks-1)\n",
    "        layers = []\n",
    "        for stride in strides:\n",
    "            layers.append(block(self.in_planes, planes, expf, stride))\n",
    "            self.in_planes = planes\n",
    "        return nn.Sequential(*layers)\n",
    "    \n",
    "    def forward(self, inp):\n",
    "        out = F.relu(self.bn1(self.conv1(inp)))\n",
    "        out = self.lyrs(out)\n",
    "        out = F.adaptive_avg_pool2d(out, 1)\n",
    "        out = out.view(out.size(0), -1)\n",
    "        out = self.linear(out)\n",
    "        return F.log_softmax(out, dim=-1)\n"
   ]
  },
  {
   "cell_type": "code",
   "execution_count": 8,
   "metadata": {},
   "outputs": [],
   "source": [
    "tpl = [(1,  16, 1, 1),\n",
    "       (6,  24, 2, 1),  \n",
    "       (6,  32, 3, 2),\n",
    "       (6,  64, 4, 2),\n",
    "       (6,  96, 3, 1),\n",
    "       (6, 160, 3, 2),\n",
    "       (6, 320, 1, 1)]\n",
    "md_mbl = mblnetv2(expand_depthwise_block, 1, 32,\n",
    "                  tpl,\n",
    "                  num_classes=10)"
   ]
  },
  {
   "cell_type": "code",
   "execution_count": 9,
   "metadata": {},
   "outputs": [],
   "source": [
    "data = get_data(sz, bs)"
   ]
  },
  {
   "cell_type": "code",
   "execution_count": 10,
   "metadata": {},
   "outputs": [],
   "source": [
    "learn = ConvLearner.from_model_data(md_mbl, data)"
   ]
  },
  {
   "cell_type": "code",
   "execution_count": null,
   "metadata": {},
   "outputs": [],
   "source": [
    "learn.summary()"
   ]
  },
  {
   "cell_type": "code",
   "execution_count": null,
   "metadata": {},
   "outputs": [],
   "source": [
    "total_model_params(learn.summary())"
   ]
  },
  {
   "cell_type": "code",
   "execution_count": null,
   "metadata": {},
   "outputs": [
    {
     "data": {
      "application/vnd.jupyter.widget-view+json": {
       "model_id": "2a52aa25b6614e0992ff9092f9173830",
       "version_major": 2,
       "version_minor": 0
      },
      "text/plain": [
       "HBox(children=(IntProgress(value=0, description='Epoch', max=31), HTML(value='')))"
      ]
     },
     "metadata": {},
     "output_type": "display_data"
    },
    {
     "name": "stdout",
     "output_type": "stream",
     "text": [
      "  1%|▏         | 10/782 [00:04<06:02,  2.13it/s, loss=2.3]"
     ]
    }
   ],
   "source": [
    "learn.fit(1e-2, 5, cycle_len=1, cycle_mult=2, best_save_name='best_mblnetv2_1', metrics=[accuracy])"
   ]
  }
 ],
 "metadata": {
  "kernelspec": {
   "display_name": "Python 3",
   "language": "python",
   "name": "python3"
  },
  "language_info": {
   "codemirror_mode": {
    "name": "ipython",
    "version": 3
   },
   "file_extension": ".py",
   "mimetype": "text/x-python",
   "name": "python",
   "nbconvert_exporter": "python",
   "pygments_lexer": "ipython3",
   "version": "3.6.5"
  }
 },
 "nbformat": 4,
 "nbformat_minor": 2
}
