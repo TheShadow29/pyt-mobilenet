{
 "cells": [
  {
   "cell_type": "code",
   "execution_count": 1,
   "metadata": {},
   "outputs": [],
   "source": [
    "from all_imports import *"
   ]
  },
  {
   "cell_type": "code",
   "execution_count": 2,
   "metadata": {},
   "outputs": [],
   "source": [
    "%matplotlib inline\n",
    "%reload_ext autoreload\n",
    "%autoreload 2"
   ]
  },
  {
   "cell_type": "code",
   "execution_count": 3,
   "metadata": {},
   "outputs": [],
   "source": [
    "from cifar10 import *"
   ]
  },
  {
   "cell_type": "code",
   "execution_count": 4,
   "metadata": {},
   "outputs": [],
   "source": [
    "from mobile_net import *"
   ]
  },
  {
   "cell_type": "code",
   "execution_count": 5,
   "metadata": {},
   "outputs": [],
   "source": [
    "bs=64\n",
    "sz=32"
   ]
  },
  {
   "cell_type": "code",
   "execution_count": 6,
   "metadata": {},
   "outputs": [],
   "source": [
    "data = get_data(sz, bs)"
   ]
  },
  {
   "cell_type": "code",
   "execution_count": 7,
   "metadata": {},
   "outputs": [],
   "source": [
    "class Block(nn.Module):\n",
    "    '''expand + depthwise + pointwise'''\n",
    "    def __init__(self, in_planes, out_planes, expansion, stride):\n",
    "        super(Block, self).__init__()\n",
    "        self.stride = stride\n",
    "\n",
    "        planes = expansion * in_planes\n",
    "        self.conv1 = nn.Conv2d(in_planes, planes, kernel_size=1, stride=1, padding=0, bias=False)\n",
    "        self.bn1 = nn.BatchNorm2d(planes)\n",
    "        self.conv2 = nn.Conv2d(planes, planes, kernel_size=3, stride=stride, padding=1, groups=planes, bias=False)\n",
    "        self.bn2 = nn.BatchNorm2d(planes)\n",
    "        self.conv3 = nn.Conv2d(planes, out_planes, kernel_size=1, stride=1, padding=0, bias=False)\n",
    "        self.bn3 = nn.BatchNorm2d(out_planes)\n",
    "\n",
    "        self.shortcut = nn.Sequential()\n",
    "        if stride == 1 and in_planes != out_planes:\n",
    "            self.shortcut = nn.Sequential(\n",
    "                nn.Conv2d(in_planes, out_planes, kernel_size=1, stride=1, padding=0, bias=False),\n",
    "                nn.BatchNorm2d(out_planes),\n",
    "            )\n",
    "\n",
    "    def forward(self, x):\n",
    "        out = F.relu(self.bn1(self.conv1(x)))\n",
    "        out = F.relu(self.bn2(self.conv2(out)))\n",
    "        out = self.bn3(self.conv3(out))\n",
    "        out = out + self.shortcut(x) if self.stride==1 else out\n",
    "        return out"
   ]
  },
  {
   "cell_type": "code",
   "execution_count": 8,
   "metadata": {},
   "outputs": [],
   "source": [
    "class expand_depthwise_block(nn.Module):\n",
    "    ## Thanks to https://github.com/kuangliu/pytorch-cifar/blob/master/models/mobilenetv2.py\n",
    "    def __init__(self, in_c, out_c, expansion, stride):\n",
    "        super().__init__()\n",
    "        t = expansion\n",
    "        tk = in_c * t\n",
    "        self.stride = stride\n",
    "        self.l1 = nn.Sequential(nn.Conv2d(in_c, tk, 1, bias=False), nn.BatchNorm2d(tk), nn.ReLU6(inplace=True),\n",
    "                               nn.Conv2d(tk, tk, 3, groups=tk, padding=1, bias=False), \n",
    "                                nn.BatchNorm2d(tk), nn.ReLU6(inplace=True),\n",
    "                               nn.Conv2d(tk, out_c, 1, bias=False), nn.BatchNorm2d(out_c))\n",
    "        self.resd = nn.Sequential()\n",
    "        if stride == 1 and in_c != out_c:      \n",
    "            self.resd = nn.Sequential(nn.Conv2d(in_c, out_c, 1, bias=False), nn.BatchNorm2d(out_c))\n",
    "            \n",
    "    def forward(self, inp):\n",
    "        \n",
    "        out = self.l1(inp)\n",
    "        if self.stride == 1:\n",
    "            out = out + self.resd(inp)\n",
    "        return out"
   ]
  },
  {
   "cell_type": "code",
   "execution_count": 9,
   "metadata": {},
   "outputs": [],
   "source": [
    "class mblnetv2(nn.Module):\n",
    "    def __init__(self, block, inc_scale, inc_start, tuple_list, num_classes):\n",
    "        super().__init__()\n",
    "        # assuming tuple list of form:\n",
    "        # expansion, out_planes, num_blocks, stride \n",
    "        self.num_blocks = len(tuple_list)\n",
    "        self.in_planes = inc_start // inc_scale\n",
    "        self.conv1 = nn.Conv2d(3, self.in_planes, kernel_size=3, stride=1, padding=1, bias=False)\n",
    "        self.bn1 = nn.BatchNorm2d(self.in_planes)\n",
    "        lyrs = []\n",
    "        for expf, inc, nb, strl in tuple_list:\n",
    "            lyrs.append(self._make_layer(block, expf, inc, nb, strl))\n",
    "            \n",
    "        self.lyrs = nn.Sequential(*lyrs)\n",
    "        self.linear = nn.Linear(tuple_list[-1][1], num_classes)\n",
    "        \n",
    "    \n",
    "    def _make_layer(self, block, expf, planes, num_blocks, stride):\n",
    "        strides = [stride] + [1]*(num_blocks-1)\n",
    "        layers = []\n",
    "        for stride in strides:\n",
    "            layers.append(block(self.in_planes, planes, expf, stride))\n",
    "            self.in_planes = planes\n",
    "        return nn.Sequential(*layers)\n",
    "    \n",
    "    def forward(self, inp):\n",
    "        out = F.relu(self.bn1(self.conv1(inp)))\n",
    "        out = self.lyrs(out)\n",
    "        out = F.adaptive_avg_pool2d(out, 1)\n",
    "        out = out.view(out.size(0), -1)\n",
    "        out = self.linear(out)\n",
    "        return F.log_softmax(out, dim=-1)\n"
   ]
  },
  {
   "cell_type": "code",
   "execution_count": 10,
   "metadata": {},
   "outputs": [],
   "source": [
    "tpl = [(1,  16, 1, 1),\n",
    "       (6,  24, 2, 1),  \n",
    "       (6,  32, 3, 2),\n",
    "       (6,  64, 4, 2),\n",
    "       (6,  96, 3, 1),\n",
    "       (6, 160, 3, 2),\n",
    "       (6, 320, 1, 1)]"
   ]
  },
  {
   "cell_type": "code",
   "execution_count": 11,
   "metadata": {},
   "outputs": [],
   "source": [
    "md_mbl_blck = mblnetv2(Block, 1, 32,\n",
    "                      tpl,\n",
    "                      num_classes=10)"
   ]
  },
  {
   "cell_type": "code",
   "execution_count": 13,
   "metadata": {},
   "outputs": [],
   "source": [
    "md_mbl_exp = mblnetv2(expand_depthwise_block, 1, 32,\n",
    "                      tpl,\n",
    "                      num_classes=10)"
   ]
  },
  {
   "cell_type": "code",
   "execution_count": 12,
   "metadata": {},
   "outputs": [],
   "source": [
    "data = get_data(sz, bs)"
   ]
  },
  {
   "cell_type": "code",
   "execution_count": 13,
   "metadata": {},
   "outputs": [],
   "source": [
    "learn_blck = ConvLearner.from_model_data(md_mbl_blck, data)"
   ]
  },
  {
   "cell_type": "code",
   "execution_count": 16,
   "metadata": {},
   "outputs": [],
   "source": [
    "learn_exp = ConvLearner.from_model_data(md_mbl_exp, data)"
   ]
  },
  {
   "cell_type": "code",
   "execution_count": 14,
   "metadata": {},
   "outputs": [
    {
     "name": "stdout",
     "output_type": "stream",
     "text": [
      "Total parameters in the model :1875162\n"
     ]
    }
   ],
   "source": [
    "total_model_params(learn_blck.summary())"
   ]
  },
  {
   "cell_type": "code",
   "execution_count": 18,
   "metadata": {},
   "outputs": [
    {
     "name": "stdout",
     "output_type": "stream",
     "text": [
      "Total parameters in the model :1875162\n"
     ]
    }
   ],
   "source": [
    "total_model_params(learn_exp.summary())"
   ]
  },
  {
   "cell_type": "code",
   "execution_count": 15,
   "metadata": {},
   "outputs": [
    {
     "data": {
      "application/vnd.jupyter.widget-view+json": {
       "model_id": "",
       "version_major": 2,
       "version_minor": 0
      },
      "text/plain": [
       "HBox(children=(IntProgress(value=0, description='Epoch', max=5), HTML(value='')))"
      ]
     },
     "metadata": {},
     "output_type": "display_data"
    },
    {
     "name": "stdout",
     "output_type": "stream",
     "text": [
      "epoch      trn_loss   val_loss   accuracy                   \n",
      "    0      1.149386   1.102802   0.6022    \n",
      "    1      0.948014   0.855649   0.6948                      \n",
      "    2      0.772911   0.69118    0.7557                      \n",
      "    3      0.671254   0.595959   0.7901                      \n",
      "    4      0.594443   0.542263   0.8121                      \n",
      "\n"
     ]
    },
    {
     "data": {
      "text/plain": [
       "[array([0.54226]), 0.8121]"
      ]
     },
     "execution_count": 15,
     "metadata": {},
     "output_type": "execute_result"
    }
   ],
   "source": [
    "learn_blck.fit(5e-2, 5, cycle_len=1, best_save_name='best_mblnetv2_blk_1', metrics=[accuracy])"
   ]
  },
  {
   "cell_type": "code",
   "execution_count": 23,
   "metadata": {},
   "outputs": [],
   "source": [
    "learn_blck.load('best_mblnetv2_blk_1')\n",
    "learn_blck.unfreeze()"
   ]
  },
  {
   "cell_type": "code",
   "execution_count": 24,
   "metadata": {},
   "outputs": [
    {
     "data": {
      "application/vnd.jupyter.widget-view+json": {
       "model_id": "",
       "version_major": 2,
       "version_minor": 0
      },
      "text/plain": [
       "HBox(children=(IntProgress(value=0, description='Epoch', max=5), HTML(value='')))"
      ]
     },
     "metadata": {},
     "output_type": "display_data"
    },
    {
     "name": "stdout",
     "output_type": "stream",
     "text": [
      "epoch      trn_loss   val_loss   accuracy                    \n",
      "    0      0.540091   0.504126   0.8287    \n",
      "    1      0.519431   0.488398   0.8347                      \n",
      "    2      0.490579   0.475887   0.8395                      \n",
      "    3      0.450472   0.463159   0.8423                      \n",
      "    4      0.456585   0.444863   0.8498                      \n",
      "\n"
     ]
    },
    {
     "data": {
      "text/plain": [
       "[array([0.44486]), 0.8498]"
      ]
     },
     "execution_count": 24,
     "metadata": {},
     "output_type": "execute_result"
    }
   ],
   "source": [
    "learn_blck.fit(1e-2, 5, cycle_len=1, best_save_name='best_mblnetv2_blk_2', metrics=[accuracy])"
   ]
  },
  {
   "cell_type": "code",
   "execution_count": 25,
   "metadata": {},
   "outputs": [
    {
     "data": {
      "application/vnd.jupyter.widget-view+json": {
       "model_id": "",
       "version_major": 2,
       "version_minor": 0
      },
      "text/plain": [
       "HBox(children=(IntProgress(value=0, description='Epoch', max=5), HTML(value='')))"
      ]
     },
     "metadata": {},
     "output_type": "display_data"
    },
    {
     "name": "stdout",
     "output_type": "stream",
     "text": [
      "epoch      trn_loss   val_loss   accuracy                    \n",
      "    0      0.462152   0.437694   0.8546    \n",
      "    1      0.429822   0.42111    0.8568                      \n",
      "    2      0.414158   0.41187    0.8601                      \n",
      "    3      0.39125    0.401361   0.8639                      \n",
      "    4      0.39197    0.401618   0.8654                      \n",
      "\n"
     ]
    },
    {
     "data": {
      "text/plain": [
       "[array([0.40162]), 0.8654]"
      ]
     },
     "execution_count": 25,
     "metadata": {},
     "output_type": "execute_result"
    }
   ],
   "source": [
    "learn_blck.fit(1e-2, 5, cycle_len=1, use_clr=(20, 5), best_save_name='best_mblnetv2_blk_3', metrics=[accuracy])"
   ]
  },
  {
   "cell_type": "code",
   "execution_count": 26,
   "metadata": {},
   "outputs": [
    {
     "data": {
      "application/vnd.jupyter.widget-view+json": {
       "model_id": "",
       "version_major": 2,
       "version_minor": 0
      },
      "text/plain": [
       "HBox(children=(IntProgress(value=0, description='Epoch', max=5), HTML(value='')))"
      ]
     },
     "metadata": {},
     "output_type": "display_data"
    },
    {
     "name": "stdout",
     "output_type": "stream",
     "text": [
      "epoch      trn_loss   val_loss   accuracy                    \n",
      "    0      0.46978    0.43491    0.8512    \n",
      "    1      0.41638    0.406135   0.8584                      \n",
      "    2      0.424425   0.388045   0.8682                      \n",
      "    3      0.38399    0.378791   0.87                        \n",
      "    4      0.370013   0.367938   0.8729                      \n",
      "\n"
     ]
    },
    {
     "data": {
      "text/plain": [
       "[array([0.36794]), 0.8729]"
      ]
     },
     "execution_count": 26,
     "metadata": {},
     "output_type": "execute_result"
    }
   ],
   "source": [
    "learn_blck.fit(5e-2, 5, cycle_len=1, use_clr=(20, 5), best_save_name='best_mblnetv2_blk_4', metrics=[accuracy])"
   ]
  },
  {
   "cell_type": "code",
   "execution_count": null,
   "metadata": {},
   "outputs": [],
   "source": [
    "learn"
   ]
  },
  {
   "cell_type": "code",
   "execution_count": 30,
   "metadata": {},
   "outputs": [
    {
     "data": {
      "application/vnd.jupyter.widget-view+json": {
       "model_id": "fa4fe762f4a941a28006b6c5a3c2ae01",
       "version_major": 2,
       "version_minor": 0
      },
      "text/plain": [
       "HBox(children=(IntProgress(value=0, description='Epoch', max=50), HTML(value='')))"
      ]
     },
     "metadata": {},
     "output_type": "display_data"
    },
    {
     "name": "stdout",
     "output_type": "stream",
     "text": [
      "epoch      trn_loss   val_loss   accuracy                    \n",
      "    0      0.396722   0.389371   0.8685    \n",
      "    1      0.3895     0.386122   0.8671                      \n",
      "    2      0.396267   0.411666   0.8571                      \n",
      "    3      0.393032   0.420157   0.8532                      \n",
      "    4      0.343123   0.393091   0.8694                      \n",
      "    5      0.329349   0.362433   0.8773                      \n",
      "    6      0.309325   0.354853   0.8806                      \n",
      "    7      0.26548    0.321819   0.8894                      \n",
      "    8      0.195675   0.289179   0.9042                      \n",
      "    9      0.175346   0.287945   0.9041                      \n",
      "    10     0.261564   0.314469   0.8932                      \n",
      "    11     0.271705   0.346759   0.8858                      \n",
      "    12     0.283616   0.358257   0.8805                      \n",
      "    13     0.287176   0.351186   0.8826                      \n",
      "    14     0.289707   0.366931   0.8785                      \n",
      "    15     0.277409   0.327322   0.8889                      \n",
      "    16     0.241189   0.318052   0.8936                      \n",
      "    17     0.193473   0.292021   0.905                       \n",
      "    18     0.135723   0.279431   0.9115                      \n",
      "    19     0.129252   0.278275   0.911                       \n",
      "    20     0.169367   0.317916   0.8989                      \n",
      "    21     0.210584   0.352615   0.8881                      \n",
      "    22     0.244513   0.345392   0.8856                      \n",
      "    23     0.229675   0.340575   0.8895                      \n",
      "    24     0.231682   0.327048   0.8918                      \n",
      "    25     0.218022   0.315726   0.8985                      \n",
      "    26     0.191907   0.313909   0.9003                      \n",
      "    27     0.150193   0.286722   0.9087                      \n",
      "    28     0.103759   0.266825   0.9187                       \n",
      "    29     0.077831   0.266986   0.9201                       \n",
      "    30     0.13524    0.307703   0.9052                       \n",
      "    31     0.164302   0.305788   0.9037                      \n",
      "    32     0.182694   0.330635   0.8958                      \n",
      "    33     0.205999   0.328556   0.8979                      \n",
      "    34     0.180208   0.346231   0.8934                      \n",
      "    35     0.184373   0.30487    0.904                       \n",
      "    36     0.145999   0.294468   0.9088                      \n",
      "    37     0.116863   0.301214   0.9113                       \n",
      "    38     0.086214   0.276383   0.9188                       \n",
      "    39     0.063991   0.270367   0.9199                       \n",
      "    40     0.093002   0.313761   0.9115                       \n",
      "    41     0.12428    0.334424   0.9004                       \n",
      "    42     0.151744   0.359419   0.8941                      \n",
      "    43     0.159966   0.339315   0.8982                      \n",
      "    44     0.146356   0.329836   0.8993                      \n",
      "    45     0.134236   0.33121    0.9008                      \n",
      "    46     0.126129   0.317426   0.9065                      \n",
      "    47     0.083791   0.291847   0.914                        \n",
      "    48     0.052965   0.291117   0.9183                       \n",
      "    49     0.050841   0.286559   0.9209                       \n",
      "\n"
     ]
    },
    {
     "data": {
      "text/plain": [
       "[array([0.28656]), 0.9209]"
      ]
     },
     "execution_count": 30,
     "metadata": {},
     "output_type": "execute_result"
    }
   ],
   "source": [
    "learn_blck.fit(5e-2, 5, cycle_len=10, use_clr_beta=(20, 13.68, 0.95, 0.85), best_save_name='best_mblnetv2_blk_5', metrics=[accuracy])"
   ]
  },
  {
   "cell_type": "code",
   "execution_count": null,
   "metadata": {},
   "outputs": [],
   "source": []
  }
 ],
 "metadata": {
  "kernelspec": {
   "display_name": "Python 3",
   "language": "python",
   "name": "python3"
  },
  "language_info": {
   "codemirror_mode": {
    "name": "ipython",
    "version": 3
   },
   "file_extension": ".py",
   "mimetype": "text/x-python",
   "name": "python",
   "nbconvert_exporter": "python",
   "pygments_lexer": "ipython3",
   "version": "3.6.5"
  }
 },
 "nbformat": 4,
 "nbformat_minor": 2
}
