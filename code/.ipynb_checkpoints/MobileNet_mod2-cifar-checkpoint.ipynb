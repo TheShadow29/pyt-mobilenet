{
 "cells": [
  {
   "cell_type": "code",
   "execution_count": 1,
   "metadata": {},
   "outputs": [],
   "source": [
    "import matplotlib\n",
    "matplotlib.use('Agg')\n",
    "import sys\n",
    "# sys.path.append(\"/home/ec2-user/anaconda3/external/fastai/\")\n",
    "sys.path.append('/scratch/arka/miniconda3/external/fastai/')\n",
    "\n",
    "\n",
    "from tqdm import tqdm\n",
    "tqdm.monitor_interval = 0\n",
    "\n",
    "from fastai.imports import *\n",
    "from fastai.transforms import *\n",
    "from fastai.conv_learner import *\n",
    "from fastai.model import *\n",
    "from fastai.dataset import *\n",
    "from fastai.sgdr import *\n",
    "from fastai.plots import *\n",
    "import json\n",
    "import pandas as pd\n",
    "from sklearn.metrics import *"
   ]
  },
  {
   "cell_type": "code",
   "execution_count": 2,
   "metadata": {},
   "outputs": [],
   "source": [
    "%matplotlib inline\n",
    "%reload_ext autoreload\n",
    "%autoreload 2"
   ]
  },
  {
   "cell_type": "code",
   "execution_count": 3,
   "metadata": {},
   "outputs": [],
   "source": [
    "PATH = Path(\"/scratch/arka/miniconda3/external/fastai/courses/dl2/data/cifar10/\")\n",
    "classes = ('plane', 'car', 'bird', 'cat', 'deer', 'dog', 'frog', 'horse', 'ship', 'truck')\n",
    "stats = (np.array([ 0.4914 ,  0.48216,  0.44653]), np.array([ 0.24703,  0.24349,  0.26159]))\n",
    "def get_data(sz,bs):\n",
    "    tfms = tfms_from_stats(stats, sz, aug_tfms=[RandomFlip()], pad=sz//8)\n",
    "    return ImageClassifierData.from_paths(PATH, val_name='test', tfms=tfms, bs=bs)"
   ]
  },
  {
   "cell_type": "code",
   "execution_count": 4,
   "metadata": {},
   "outputs": [],
   "source": [
    "def total_model_params(summary):\n",
    "    total_params = 0\n",
    "    for key,value in summary.items():\n",
    "        total_params+=int(summary[key]['nb_params'])\n",
    "    print(\"Total parameters in the model :\"+str(total_params))"
   ]
  },
  {
   "cell_type": "code",
   "execution_count": 5,
   "metadata": {},
   "outputs": [],
   "source": [
    "bs=128\n",
    "sz=32"
   ]
  },
  {
   "cell_type": "code",
   "execution_count": 6,
   "metadata": {},
   "outputs": [],
   "source": [
    "class depthwise_block(nn.Module):\n",
    "    def __init__(self, in_c, out_c, stride=1):\n",
    "        super().__init__()\n",
    "        self.bn1 = nn.BatchNorm2d(in_c)\n",
    "        self.conv1 = nn.Conv2d(in_c, in_c, kernel_size=3, \n",
    "                               stride=stride, padding=1,\n",
    "                               groups=in_c, bias=False)\n",
    "        self.conv2 = nn.Conv2d(in_c, out_c, kernel_size=1,\n",
    "                              stride=1, bias=False)\n",
    "        self.bn2 = nn.BatchNorm2d(out_c)\n",
    "    \n",
    "    def forward(self, inp):\n",
    "        out = F.relu(self.bn1(self.conv1(inp)))\n",
    "        out = F.relu(self.bn2(self.conv2(out)))\n",
    "        return out"
   ]
  },
  {
   "cell_type": "code",
   "execution_count": 7,
   "metadata": {},
   "outputs": [],
   "source": [
    "class mblnetv1(nn.Module):\n",
    "    def __init__(self, block, inc_list, inc_scale, num_blocks_list, stride_list, num_classes):\n",
    "        super().__init__()\n",
    "        self.num_blocks = len(num_blocks_list)\n",
    "        inc_list1 = [o//inc_scale for o in inc_list]\n",
    "        self.in_planes = inc_list1[0]\n",
    "        self.conv1 = nn.Conv2d(3, self.in_planes, kernel_size=3, stride=1, padding=1, bias=False)\n",
    "        self.bn1 = nn.BatchNorm2d(self.in_planes)\n",
    "        \n",
    "        lyrs = []\n",
    "        for inc, nb, strl in zip(inc_list1[1:], num_blocks_list, stride_list):\n",
    "            lyrs.append(self._make_layer(block, inc, nb, strl))\n",
    "            \n",
    "        self.lyrs = nn.Sequential(*lyrs)\n",
    "        self.linear = nn.Linear(inc_list1[-1], num_classes)\n",
    "        \n",
    "    \n",
    "    def _make_layer(self, block, planes, num_blocks, stride):\n",
    "        strides = [stride] + [1]*(num_blocks-1)\n",
    "        layers = []\n",
    "        for stride in strides:\n",
    "            layers.append(block(self.in_planes, planes, stride))\n",
    "            self.in_planes = planes\n",
    "        return nn.Sequential(*layers)\n",
    "    \n",
    "    def forward(self, inp):\n",
    "        out = F.relu(self.bn1(self.conv1(inp)))\n",
    "        out = self.lyrs(out)\n",
    "        out = F.adaptive_avg_pool2d(out, 1)\n",
    "        out = out.view(out.size(0), -1)\n",
    "        out = self.linear(out)\n",
    "        return F.log_softmax(out, dim=-1)\n"
   ]
  },
  {
   "cell_type": "code",
   "execution_count": 8,
   "metadata": {},
   "outputs": [],
   "source": [
    "# md_mbl = mblnetv1(depthwise_block, \n",
    "#               inc_list=[64, 64, 128, 256], \n",
    "#               inc_scale = 1, \n",
    "#               num_blocks_list=[2, 2, 2], \n",
    "#               stride_list=[1, 2, 2], \n",
    "#               num_classes=10)"
   ]
  },
  {
   "cell_type": "code",
   "execution_count": 8,
   "metadata": {},
   "outputs": [],
   "source": [
    "# md_mbl2 = mblnetv1(depthwise_block, \n",
    "#               inc_list=[32, 64, 128, 128, 256, 256, 512, 512, 1024, 1024], \n",
    "#               inc_scale = 1, \n",
    "#               num_blocks_list=[1, 1, 1, 1, 1, 1, 4, 1, 1], \n",
    "#               stride_list=[1, 2, 1, 2, 1, 2, 1, 2, 1], \n",
    "#               num_classes=10)"
   ]
  },
  {
   "cell_type": "code",
   "execution_count": 9,
   "metadata": {},
   "outputs": [
    {
     "name": "stdout",
     "output_type": "stream",
     "text": [
      "airplane  automobile  bird  cat  deer  dog  frog  horse  ship  truck\r\n"
     ]
    }
   ],
   "source": [
    "!ls {PATH / 'train'}"
   ]
  },
  {
   "cell_type": "code",
   "execution_count": 10,
   "metadata": {},
   "outputs": [],
   "source": [
    "data = get_data(sz, bs)"
   ]
  },
  {
   "cell_type": "code",
   "execution_count": 11,
   "metadata": {},
   "outputs": [],
   "source": [
    "learn = ConvLearner.from_model_data(md_mbl, data)"
   ]
  },
  {
   "cell_type": "code",
   "execution_count": null,
   "metadata": {},
   "outputs": [],
   "source": [
    "learn.summary()"
   ]
  },
  {
   "cell_type": "code",
   "execution_count": null,
   "metadata": {},
   "outputs": [],
   "source": [
    "total_model_params(learn.summary())"
   ]
  },
  {
   "cell_type": "code",
   "execution_count": 12,
   "metadata": {},
   "outputs": [
    {
     "data": {
      "application/vnd.jupyter.widget-view+json": {
       "model_id": "",
       "version_major": 2,
       "version_minor": 0
      },
      "text/plain": [
       "HBox(children=(IntProgress(value=0, description='Epoch', max=10), HTML(value='')))"
      ]
     },
     "metadata": {},
     "output_type": "display_data"
    },
    {
     "name": "stdout",
     "output_type": "stream",
     "text": [
      "epoch      trn_loss   val_loss   accuracy                   \n",
      "    0      1.615266   1.596449   0.4016    \n",
      "    1      1.185711   1.460705   0.4746                     \n",
      "    2      0.98178    0.960907   0.6541                      \n",
      "    3      0.868069   0.94568    0.6697                      \n",
      "    4      0.788727   0.801021   0.714                       \n",
      "    5      0.736044   0.708491   0.7517                      \n",
      "    6      0.68594    0.665818   0.7689                      \n",
      "    7      0.650051   0.624747   0.7817                      \n",
      "    8      0.62276    0.616858   0.7889                      \n",
      "    9      0.617672   0.61256    0.7902                      \n",
      "\n"
     ]
    },
    {
     "data": {
      "text/plain": [
       "[array([0.61256]), 0.7902]"
      ]
     },
     "execution_count": 12,
     "metadata": {},
     "output_type": "execute_result"
    }
   ],
   "source": [
    "learn.fit(1e-2, 1, cycle_len=10, best_save_name='mobilenetv1_1', metrics=[accuracy])"
   ]
  },
  {
   "cell_type": "code",
   "execution_count": 13,
   "metadata": {},
   "outputs": [
    {
     "data": {
      "application/vnd.jupyter.widget-view+json": {
       "model_id": "",
       "version_major": 2,
       "version_minor": 0
      },
      "text/plain": [
       "HBox(children=(IntProgress(value=0, description='Epoch', max=10), HTML(value='')))"
      ]
     },
     "metadata": {},
     "output_type": "display_data"
    },
    {
     "name": "stdout",
     "output_type": "stream",
     "text": [
      "epoch      trn_loss   val_loss   accuracy                    \n",
      "    0      0.739308   0.71634    0.7505    \n",
      "    1      0.678297   0.785659   0.7292                      \n",
      "    2      0.637998   0.671393   0.7629                      \n",
      "    3      0.594998   0.583232   0.7998                      \n",
      "    4      0.558631   0.549233   0.8101                      \n",
      "    5      0.506785   0.52419    0.8189                      \n",
      "    6      0.49022    0.496878   0.8311                      \n",
      "    7      0.457222   0.47172    0.8422                      \n",
      "    8      0.446021   0.467269   0.8432                      \n",
      "    9      0.428993   0.464964   0.845                       \n",
      "\n"
     ]
    },
    {
     "data": {
      "text/plain": [
       "[array([0.46496]), 0.845]"
      ]
     },
     "execution_count": 13,
     "metadata": {},
     "output_type": "execute_result"
    }
   ],
   "source": [
    "learn.fit(1e-2, 1, cycle_len=10, best_save_name='mobilenetv1_1', metrics=[accuracy])"
   ]
  },
  {
   "cell_type": "code",
   "execution_count": 14,
   "metadata": {},
   "outputs": [
    {
     "data": {
      "application/vnd.jupyter.widget-view+json": {
       "model_id": "",
       "version_major": 2,
       "version_minor": 0
      },
      "text/plain": [
       "HBox(children=(IntProgress(value=0, description='Epoch', max=10), HTML(value='')))"
      ]
     },
     "metadata": {},
     "output_type": "display_data"
    },
    {
     "name": "stdout",
     "output_type": "stream",
     "text": [
      "epoch      trn_loss   val_loss   accuracy                    \n",
      "    0      0.563808   0.60743    0.7878    \n",
      "    1      0.526577   0.697636   0.7688                      \n",
      "    2      0.504975   0.540174   0.8162                      \n",
      "    3      0.485504   0.477764   0.8394                      \n",
      "    4      0.455293   0.486695   0.8352                      \n",
      "    5      0.42534    0.457912   0.8429                      \n",
      "    6      0.393822   0.434665   0.8513                      \n",
      "    7      0.377046   0.419015   0.86                        \n",
      "    8      0.364523   0.416726   0.86                        \n",
      "    9      0.353179   0.415158   0.8585                      \n",
      "\n"
     ]
    },
    {
     "data": {
      "text/plain": [
       "[array([0.41516]), 0.8585]"
      ]
     },
     "execution_count": 14,
     "metadata": {},
     "output_type": "execute_result"
    }
   ],
   "source": [
    "learn.fit(1e-2, 1, cycle_len=10, best_save_name='mobilenetv1_1', metrics=[accuracy])"
   ]
  },
  {
   "cell_type": "code",
   "execution_count": 15,
   "metadata": {},
   "outputs": [
    {
     "data": {
      "application/vnd.jupyter.widget-view+json": {
       "model_id": "",
       "version_major": 2,
       "version_minor": 0
      },
      "text/plain": [
       "HBox(children=(IntProgress(value=0, description='Epoch', max=1), HTML(value='')))"
      ]
     },
     "metadata": {},
     "output_type": "display_data"
    },
    {
     "name": "stdout",
     "output_type": "stream",
     "text": [
      "epoch      trn_loss   val_loss   accuracy                    \n",
      "    0      0.386852   0.426499   0.8554    \n",
      "\n"
     ]
    },
    {
     "data": {
      "text/plain": [
       "[array([0.4265]), 0.8554]"
      ]
     },
     "execution_count": 15,
     "metadata": {},
     "output_type": "execute_result"
    }
   ],
   "source": [
    "learn.fit(1e-2, 1, cycle_len=1, best_save_name='mobilenetv1_1', metrics=[accuracy])"
   ]
  },
  {
   "cell_type": "code",
   "execution_count": 16,
   "metadata": {},
   "outputs": [
    {
     "data": {
      "application/vnd.jupyter.widget-view+json": {
       "model_id": "",
       "version_major": 2,
       "version_minor": 0
      },
      "text/plain": [
       "HBox(children=(IntProgress(value=0, description='Epoch', max=10), HTML(value='')))"
      ]
     },
     "metadata": {},
     "output_type": "display_data"
    },
    {
     "name": "stdout",
     "output_type": "stream",
     "text": [
      "epoch      trn_loss   val_loss   accuracy                    \n",
      "    0      0.458278   0.552981   0.8131    \n",
      "    1      0.448405   0.502951   0.8283                      \n",
      "    2      0.441533   0.519385   0.8182                      \n",
      "    3      0.401516   0.463627   0.8447                      \n",
      "    4      0.378497   0.445571   0.849                       \n",
      "    5      0.355221   0.419334   0.8561                      \n",
      "    6      0.325653   0.400282   0.8638                      \n",
      "    7      0.321713   0.391985   0.8644                      \n",
      "    8      0.295009   0.387158   0.8691                      \n",
      "    9      0.298837   0.385616   0.8686                      \n",
      "\n"
     ]
    },
    {
     "data": {
      "text/plain": [
       "[array([0.38562]), 0.8686]"
      ]
     },
     "execution_count": 16,
     "metadata": {},
     "output_type": "execute_result"
    }
   ],
   "source": [
    "learn.fit(1e-2, 1, cycle_len=10, best_save_name='mobilenetv1_1', metrics=[accuracy])"
   ]
  },
  {
   "cell_type": "code",
   "execution_count": null,
   "metadata": {},
   "outputs": [
    {
     "data": {
      "application/vnd.jupyter.widget-view+json": {
       "model_id": "c439238226054f7885b247fddb087b6d",
       "version_major": 2,
       "version_minor": 0
      },
      "text/plain": [
       "HBox(children=(IntProgress(value=0, description='Epoch', max=30), HTML(value='')))"
      ]
     },
     "metadata": {},
     "output_type": "display_data"
    },
    {
     "name": "stdout",
     "output_type": "stream",
     "text": [
      "epoch      trn_loss   val_loss   accuracy                    \n",
      "    0      0.417209   0.504959   0.8274    \n",
      "    1      0.396731   0.498978   0.8283                      \n",
      "    2      0.390342   0.454531   0.8452                      \n",
      "    3      0.364516   0.439782   0.8503                      \n",
      "    4      0.333849   0.436971   0.8539                      \n",
      "    5      0.310803   0.402386   0.8609                      \n",
      "    6      0.290641   0.383567   0.8687                      \n",
      "    7      0.267253   0.374955   0.8703                      \n",
      "    8      0.26665    0.372302   0.8727                      \n",
      "    9      0.261726   0.370939   0.8731                      \n",
      " 62%|██████▏   | 244/391 [00:19<00:11, 12.42it/s, loss=0.364]"
     ]
    }
   ],
   "source": [
    "learn.fit(1e-2, 2, cycle_len=10, cycle_mult=2, best_save_name='mobilenetv1_1', metrics=[accuracy])"
   ]
  }
 ],
 "metadata": {
  "kernelspec": {
   "display_name": "Python 3",
   "language": "python",
   "name": "python3"
  },
  "language_info": {
   "codemirror_mode": {
    "name": "ipython",
    "version": 3
   },
   "file_extension": ".py",
   "mimetype": "text/x-python",
   "name": "python",
   "nbconvert_exporter": "python",
   "pygments_lexer": "ipython3",
   "version": "3.6.5"
  }
 },
 "nbformat": 4,
 "nbformat_minor": 2
}
