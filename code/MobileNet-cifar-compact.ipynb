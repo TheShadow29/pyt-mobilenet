{
 "cells": [
  {
   "cell_type": "code",
   "execution_count": 1,
   "metadata": {},
   "outputs": [],
   "source": [
    "import matplotlib\n",
    "matplotlib.use('Agg')\n",
    "# import sys\n",
    "# sys.path.append(\"/home/ec2-user/anaconda3/external/fastai/\")\n",
    "# sys.path.append('/scratch/arka/miniconda3/external/fastai/')\n",
    "\n",
    "\n",
    "from tqdm import tqdm\n",
    "tqdm.monitor_interval = 0\n",
    "\n",
    "from fastai.imports import *\n",
    "from fastai.transforms import *\n",
    "from fastai.conv_learner import *\n",
    "from fastai.model import *\n",
    "from fastai.dataset import *\n",
    "from fastai.sgdr import *\n",
    "from fastai.plots import *\n",
    "import json\n",
    "import pandas as pd\n",
    "from sklearn.metrics import *"
   ]
  },
  {
   "cell_type": "code",
   "execution_count": 2,
   "metadata": {},
   "outputs": [],
   "source": [
    "%matplotlib inline\n",
    "%reload_ext autoreload\n",
    "%autoreload 2"
   ]
  },
  {
   "cell_type": "code",
   "execution_count": 5,
   "metadata": {},
   "outputs": [],
   "source": [
    "from mobile_net import *"
   ]
  },
  {
   "cell_type": "code",
   "execution_count": 7,
   "metadata": {},
   "outputs": [],
   "source": [
    "PATH = Path(\"/scratch/arka/miniconda3/external/fastai/courses/dl2/data/cifar10/\")\n",
    "classes = ('plane', 'car', 'bird', 'cat', 'deer', 'dog', 'frog', 'horse', 'ship', 'truck')\n",
    "stats = (np.array([ 0.4914 ,  0.48216,  0.44653]), np.array([ 0.24703,  0.24349,  0.26159]))\n",
    "def get_data(sz,bs):\n",
    "    tfms = tfms_from_stats(stats, sz, aug_tfms=[RandomFlip()], pad=sz//8)\n",
    "    return ImageClassifierData.from_paths(PATH, val_name='test', tfms=tfms, bs=bs)"
   ]
  },
  {
   "cell_type": "code",
   "execution_count": 9,
   "metadata": {},
   "outputs": [],
   "source": [
    "bs=128\n",
    "sz=32"
   ]
  },
  {
   "cell_type": "code",
   "execution_count": 27,
   "metadata": {},
   "outputs": [],
   "source": [
    "md_mbl = mblnetv1(depthwise_block, \n",
    "              inc_list=[64, 64, 128, 256], \n",
    "              inc_scale = 1, \n",
    "              num_blocks_list=[2, 2, 2], \n",
    "              stride_list=[1, 2, 2], \n",
    "              num_classes=10)"
   ]
  },
  {
   "cell_type": "code",
   "execution_count": null,
   "metadata": {},
   "outputs": [],
   "source": [
    "!ls {PATH / 'train'}"
   ]
  },
  {
   "cell_type": "code",
   "execution_count": 10,
   "metadata": {},
   "outputs": [],
   "source": [
    "data = get_data(sz, bs)"
   ]
  },
  {
   "cell_type": "code",
   "execution_count": 28,
   "metadata": {},
   "outputs": [],
   "source": [
    "learn = ConvLearner.from_model_data(md_mbl, data)"
   ]
  },
  {
   "cell_type": "markdown",
   "metadata": {},
   "source": [
    "Note: cycle_mult doesn't work with use_clr"
   ]
  },
  {
   "cell_type": "code",
   "execution_count": 29,
   "metadata": {},
   "outputs": [
    {
     "data": {
      "application/vnd.jupyter.widget-view+json": {
       "model_id": "",
       "version_major": 2,
       "version_minor": 0
      },
      "text/plain": [
       "HBox(children=(IntProgress(value=0, description='Epoch', max=15), HTML(value='')))"
      ]
     },
     "metadata": {},
     "output_type": "display_data"
    },
    {
     "name": "stdout",
     "output_type": "stream",
     "text": [
      "epoch      trn_loss   val_loss   accuracy                   \n",
      "    0      1.118943   1.021824   0.6241    \n",
      "    1      0.91166    0.835679   0.7008                      \n",
      "    2      0.79342    0.729339   0.7428                      \n",
      "    3      0.70374    0.663522   0.7704                      \n",
      "    4      0.66421    0.595803   0.7951                      \n",
      "    5      0.593554   0.56133    0.8036                      \n",
      "    6      0.55774    0.514893   0.8215                      \n",
      "    7      0.519216   0.484704   0.8344                      \n",
      "    8      0.490391   0.45559    0.8441                      \n",
      "    9      0.460895   0.438677   0.8471                      \n",
      "    10     0.448593   0.434292   0.8499                      \n",
      "    11     0.436007   0.418559   0.8575                      \n",
      "    12     0.408115   0.40924    0.8609                      \n",
      "    13     0.406685   0.396241   0.8643                      \n",
      "    14     0.374328   0.40024    0.864                       \n",
      "\n"
     ]
    },
    {
     "data": {
      "text/plain": [
       "[array([0.40024]), 0.864]"
      ]
     },
     "execution_count": 29,
     "metadata": {},
     "output_type": "execute_result"
    }
   ],
   "source": [
    "learn.fit(1e-1, 4, cycle_len=1, best_save_name='mobilenetv1_2', use_clr=(20,5), metrics=[accuracy])"
   ]
  },
  {
   "cell_type": "code",
   "execution_count": 31,
   "metadata": {},
   "outputs": [
    {
     "data": {
      "application/vnd.jupyter.widget-view+json": {
       "model_id": "c97fab797cc94245b8dd744cdf24941e",
       "version_major": 2,
       "version_minor": 0
      },
      "text/plain": [
       "HBox(children=(IntProgress(value=0, description='Epoch', max=8), HTML(value='')))"
      ]
     },
     "metadata": {},
     "output_type": "display_data"
    },
    {
     "name": "stdout",
     "output_type": "stream",
     "text": [
      "epoch      trn_loss   val_loss   accuracy                    \n",
      "    0      0.449126   0.514294   0.8253    \n",
      "    1      0.345597   0.367613   0.8758                      \n",
      "    2      0.420231   0.457028   0.8492                      \n",
      "    3      0.317649   0.361407   0.8762                      \n",
      "    4      0.396306   0.420476   0.8555                      \n",
      "    5      0.319591   0.354141   0.8785                      \n",
      "    6      0.370716   0.402982   0.864                       \n",
      "    7      0.297481   0.341643   0.885                       \n",
      "\n"
     ]
    },
    {
     "data": {
      "text/plain": [
       "[array([0.34164]), 0.885]"
      ]
     },
     "execution_count": 31,
     "metadata": {},
     "output_type": "execute_result"
    }
   ],
   "source": [
    "learn.fit(1e-1, 4, cycle_len=2, best_save_name='mobilenetv1_3', use_clr=(20,5), metrics=[accuracy])"
   ]
  },
  {
   "cell_type": "code",
   "execution_count": 40,
   "metadata": {},
   "outputs": [],
   "source": [
    "learn.load('mobilenetv1_2')\n",
    "learn.unfreeze()"
   ]
  },
  {
   "cell_type": "code",
   "execution_count": 37,
   "metadata": {},
   "outputs": [
    {
     "data": {
      "application/vnd.jupyter.widget-view+json": {
       "model_id": "",
       "version_major": 2,
       "version_minor": 0
      },
      "text/plain": [
       "HBox(children=(IntProgress(value=0, description='Epoch', max=4), HTML(value='')))"
      ]
     },
     "metadata": {},
     "output_type": "display_data"
    },
    {
     "name": "stdout",
     "output_type": "stream",
     "text": [
      "epoch      trn_loss   val_loss   accuracy                    \n",
      "    0      0.396055   0.472647   0.844     \n",
      "    1      0.427997   0.508726   0.8318                      \n",
      "    2      0.374394   0.389867   0.87                        \n",
      "    3      0.306827   0.357875   0.8785                      \n",
      "\n"
     ]
    },
    {
     "data": {
      "text/plain": [
       "[array([0.35787]), 0.8785]"
      ]
     },
     "execution_count": 37,
     "metadata": {},
     "output_type": "execute_result"
    }
   ],
   "source": [
    "learn.fit(1e-1, 1, cycle_len=4, best_save_name='mobilenetv1_3n', use_clr_beta=(10,13.68,0.95,0.85), metrics=[accuracy])"
   ]
  },
  {
   "cell_type": "code",
   "execution_count": 39,
   "metadata": {},
   "outputs": [
    {
     "data": {
      "application/vnd.jupyter.widget-view+json": {
       "model_id": "",
       "version_major": 2,
       "version_minor": 0
      },
      "text/plain": [
       "HBox(children=(IntProgress(value=0, description='Epoch', max=4), HTML(value='')))"
      ]
     },
     "metadata": {},
     "output_type": "display_data"
    },
    {
     "name": "stdout",
     "output_type": "stream",
     "text": [
      "epoch      trn_loss   val_loss   accuracy                    \n",
      "    0      0.407642   0.446291   0.8485    \n",
      "    1      0.422231   0.498645   0.8321                      \n",
      "    2      0.380923   0.408301   0.8629                      \n",
      "    3      0.309915   0.361644   0.8766                      \n",
      "\n"
     ]
    },
    {
     "data": {
      "text/plain": [
       "[array([0.36164]), 0.8766]"
      ]
     },
     "execution_count": 39,
     "metadata": {},
     "output_type": "execute_result"
    }
   ],
   "source": [
    "learn.fit(1e-1, 1, cycle_len=4, best_save_name='mobilenetv1_3n1', use_clr_beta=(10,13.68,0.95,0.85), wds=1e-4,\n",
    "          metrics=[accuracy])"
   ]
  },
  {
   "cell_type": "code",
   "execution_count": 42,
   "metadata": {},
   "outputs": [
    {
     "data": {
      "application/vnd.jupyter.widget-view+json": {
       "model_id": "",
       "version_major": 2,
       "version_minor": 0
      },
      "text/plain": [
       "HBox(children=(IntProgress(value=0, description='Epoch', max=10), HTML(value='')))"
      ]
     },
     "metadata": {},
     "output_type": "display_data"
    },
    {
     "name": "stdout",
     "output_type": "stream",
     "text": [
      "epoch      trn_loss   val_loss   accuracy                    \n",
      "    0      0.393812   0.431826   0.8536    \n",
      "    1      0.384374   0.440803   0.8519                      \n",
      "    2      0.400808   0.479631   0.8394                      \n",
      "    3      0.411791   0.485716   0.8372                      \n",
      "    4      0.396053   0.50257    0.8338                      \n",
      "    5      0.38134    0.480679   0.8399                      \n",
      "    6      0.350811   0.40914    0.8567                      \n",
      "    7      0.325627   0.395329   0.8679                      \n",
      "    8      0.277476   0.345041   0.8804                      \n",
      "    9      0.254101   0.334013   0.8872                      \n",
      "\n"
     ]
    },
    {
     "data": {
      "text/plain": [
       "[array([0.33401]), 0.8872]"
      ]
     },
     "execution_count": 42,
     "metadata": {},
     "output_type": "execute_result"
    }
   ],
   "source": [
    "learn.fit(1e-1, 1, cycle_len=10, best_save_name='mobilenetv1_3n1', use_clr_beta=(10,13.68,0.95,0.85), wds=1e-4,\n",
    "          metrics=[accuracy])"
   ]
  },
  {
   "cell_type": "code",
   "execution_count": 44,
   "metadata": {},
   "outputs": [
    {
     "data": {
      "application/vnd.jupyter.widget-view+json": {
       "model_id": "4a08b5bf98fc422db94965598dbee978",
       "version_major": 2,
       "version_minor": 0
      },
      "text/plain": [
       "HBox(children=(IntProgress(value=0, description='Epoch', max=4), HTML(value='')))"
      ]
     },
     "metadata": {},
     "output_type": "display_data"
    },
    {
     "name": "stdout",
     "output_type": "stream",
     "text": [
      "epoch      trn_loss   val_loss   accuracy                    \n",
      "    0      0.234215   0.329687   0.89      \n",
      "    1      0.244848   0.331024   0.89                        \n",
      "    2      0.240107   0.32723    0.8923                      \n",
      "    3      0.230011   0.329343   0.8915                      \n",
      "\n"
     ]
    },
    {
     "data": {
      "text/plain": [
       "[array([0.32934]), 0.8915]"
      ]
     },
     "execution_count": 44,
     "metadata": {},
     "output_type": "execute_result"
    }
   ],
   "source": [
    "learn.fit(1e-2, 4, cycle_len=1, best_save_name='mobilenetv1_4n1', use_clr_beta=(10,13.68,0.95,0.85), wds=1e-4,\n",
    "          metrics=[accuracy])"
   ]
  },
  {
   "cell_type": "code",
   "execution_count": 41,
   "metadata": {},
   "outputs": [
    {
     "data": {
      "image/png": "[encoded data removed]",
      "text/plain": [
       "<Figure size 864x288 with 2 Axes>"
      ]
     },
     "metadata": {},
     "output_type": "display_data"
    }
   ],
   "source": [
    "learn.sched.plot_lr()"
   ]
  },
  {
   "cell_type": "code",
   "execution_count": 13,
   "metadata": {},
   "outputs": [],
   "source": [
    "learn.load('mobilenetv1_1')"
   ]
  },
  {
   "cell_type": "code",
   "execution_count": 14,
   "metadata": {
    "collapsed": true
   },
   "outputs": [
    {
     "data": {
      "application/vnd.jupyter.widget-view+json": {
       "model_id": "12e7f11b88ef4c9ba8925583015a94c1",
       "version_major": 2,
       "version_minor": 0
      },
      "text/plain": [
       "HBox(children=(IntProgress(value=0, description='Epoch', max=30), HTML(value='')))"
      ]
     },
     "metadata": {},
     "output_type": "display_data"
    },
    {
     "name": "stdout",
     "output_type": "stream",
     "text": [
      "epoch      trn_loss   val_loss   accuracy                    \n",
      "    0      0.37439    0.460946   0.8474    \n",
      "    1      0.375303   0.48399    0.838                       \n",
      "    2      0.33792    0.43484    0.8528                      \n",
      "    3      0.321283   0.411093   0.8623                      \n",
      "    4      0.294801   0.403581   0.8629                      \n",
      "    5      0.283703   0.385807   0.8707                      \n",
      "    6      0.260451   0.374656   0.8744                      \n",
      "    7      0.238994   0.367168   0.878                       \n",
      "    8      0.23828    0.366056   0.8754                      \n",
      "    9      0.235172   0.365442   0.8764                      \n",
      "    10     0.329295   0.442654   0.854                       \n",
      "    11     0.336549   0.453259   0.8509                      \n",
      "    12     0.313774   0.466541   0.849                       \n",
      "    13     0.313518   0.447262   0.8531                      \n",
      "    14     0.310718   0.436877   0.8565                      \n",
      "    15     0.286829   0.401509   0.8648                      \n",
      "    16     0.289538   0.383426   0.8711                      \n",
      "    17     0.268849   0.398873   0.8676                      \n",
      "    18     0.269855   0.392353   0.8714                      \n",
      "    19     0.257044   0.36976    0.8737                      \n",
      "    20     0.233659   0.37212    0.8761                      \n",
      "    21     0.231511   0.367882   0.877                       \n",
      "    22     0.211774   0.364036   0.8795                      \n",
      "    23     0.20644    0.36959    0.8788                      \n",
      "    24     0.18371    0.359605   0.8842                      \n",
      "    25     0.190546   0.359379   0.8805                      \n",
      "    26     0.183914   0.356018   0.8828                      \n",
      "    27     0.179952   0.35689    0.885                       \n",
      "    28     0.18466    0.357175   0.8839                      \n",
      "    29     0.170741   0.357451   0.8838                      \n",
      "\n"
     ]
    },
    {
     "data": {
      "text/plain": [
       "[array([0.35745]), 0.8838]"
      ]
     },
     "execution_count": 14,
     "metadata": {},
     "output_type": "execute_result"
    }
   ],
   "source": [
    "learn.fit(1e-2, 2, cycle_len=10, cycle_mult=2, best_save_name='mobilenetv1_1', metrics=[accuracy])"
   ]
  }
 ],
 "metadata": {
  "kernelspec": {
   "display_name": "Python 3",
   "language": "python",
   "name": "python3"
  },
  "language_info": {
   "codemirror_mode": {
    "name": "ipython",
    "version": 3
   },
   "file_extension": ".py",
   "mimetype": "text/x-python",
   "name": "python",
   "nbconvert_exporter": "python",
   "pygments_lexer": "ipython3",
   "version": "3.6.5"
  }
 },
 "nbformat": 4,
 "nbformat_minor": 2
}
