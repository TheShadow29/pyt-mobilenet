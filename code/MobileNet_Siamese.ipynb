{
 "cells": [
  {
   "cell_type": "code",
   "execution_count": 1,
   "metadata": {},
   "outputs": [],
   "source": [
    "import matplotlib\n",
    "matplotlib.use('Agg')"
   ]
  },
  {
   "cell_type": "code",
   "execution_count": 2,
   "metadata": {},
   "outputs": [],
   "source": [
    "from tqdm import tqdm\n",
    "tqdm.monitor_interval = 0\n",
    "\n",
    "from fastai.imports import *\n",
    "from fastai.transforms import *\n",
    "from fastai.conv_learner import *\n",
    "from fastai.model import *\n",
    "from fastai.dataset import *\n",
    "from fastai.sgdr import *\n",
    "from fastai.plots import *\n",
    "import json\n",
    "import pandas as pd\n",
    "from sklearn.metrics import *"
   ]
  },
  {
   "cell_type": "code",
   "execution_count": 3,
   "metadata": {},
   "outputs": [],
   "source": [
    "%matplotlib inline\n",
    "%reload_ext autoreload\n",
    "%autoreload 2"
   ]
  },
  {
   "cell_type": "code",
   "execution_count": 4,
   "metadata": {},
   "outputs": [],
   "source": [
    "from mobile_net import *"
   ]
  },
  {
   "cell_type": "code",
   "execution_count": 5,
   "metadata": {},
   "outputs": [],
   "source": [
    "from cifar10 import get_data"
   ]
  },
  {
   "cell_type": "code",
   "execution_count": 6,
   "metadata": {},
   "outputs": [],
   "source": [
    "PATH = Path(\"/scratch/arka/miniconda3/external/fastai/courses/dl2/data/cifar10/\")\n",
    "classes = ('plane', 'car', 'bird', 'cat', 'deer', 'dog', 'frog', 'horse', 'ship', 'truck')"
   ]
  },
  {
   "cell_type": "code",
   "execution_count": 7,
   "metadata": {},
   "outputs": [],
   "source": [
    "sz = 32\n",
    "bs = 128"
   ]
  },
  {
   "cell_type": "code",
   "execution_count": 8,
   "metadata": {},
   "outputs": [],
   "source": [
    "data = get_data(sz, bs, PATH)"
   ]
  },
  {
   "cell_type": "code",
   "execution_count": 9,
   "metadata": {},
   "outputs": [],
   "source": [
    "class SiameseDS(BaseDataset):\n",
    "    def __init__(self, ds, wgt_pos_neg=0.5):\n",
    "        self.ds = ds\n",
    "        super().__init__(ds.transform)\n",
    "        self.label_set = set(data.trn_ds.y)\n",
    "        self.l2i = {l: np.where(l == ds.y)[0] \n",
    "                    for l in self.label_set}\n",
    "        self.wgt = T(wgt_pos_neg)\n",
    "    \n",
    "    def __len__(self):\n",
    "        return self.get_n()\n",
    "        \n",
    "    def get_n(self):\n",
    "        return self.ds.n\n",
    "    \n",
    "    def get_c(self):\n",
    "        return 2\n",
    "    \n",
    "    def get_sz(self):\n",
    "        return self.ds.sz\n",
    "    \n",
    "    def get_x(self, i):\n",
    "        return self.ds.get_x(i)\n",
    "    \n",
    "    def get_y(self, i):\n",
    "        return self.ds.get_y(i)\n",
    "    \n",
    "    def __getitem__(self, idx):\n",
    "        targ = np.random.randint(0, 2)\n",
    "        x1, y1 = self.get1item(idx)\n",
    "        if targ == 1:\n",
    "            new_idx = np.random.choice(self.l2i[y1])\n",
    "            x2, y2 = self.get1item(new_idx)\n",
    "            assert y1 == y2\n",
    "        else:\n",
    "            new_c = np.random.choice(sorted(list(self.label_set - {y1})))\n",
    "            new_idx = np.random.choice(self.l2i[new_c])\n",
    "            x2, y2 = self.get1item(new_idx)\n",
    "            assert y1 != y2\n",
    "        return [x1, x2, y1, y2, targ, targ]"
   ]
  },
  {
   "cell_type": "code",
   "execution_count": 10,
   "metadata": {},
   "outputs": [],
   "source": [
    "class SiameseData(ImageData):\n",
    "    @classmethod\n",
    "    def from_image_classifier_data(cls, data, bs=64, num_workers=4):\n",
    "        trn_ds = SiameseDS(data.trn_dl.dataset)\n",
    "        val_ds = SiameseDS(data.val_dl.dataset)\n",
    "        fix_ds = SiameseDS(data.fix_dl.dataset)\n",
    "        aug_ds = SiameseDS(data.aug_dl.dataset)\n",
    "        res = [trn_ds, val_ds, fix_ds, aug_ds]\n",
    "        if data.test_dl is not None:\n",
    "            test_ds = SiameseDS(data.test_dl.dataset)\n",
    "            test_aug = SiameseDS(data.test_aug_dl.dataset)\n",
    "            res += [test_ds, test_aug]\n",
    "        else:\n",
    "            res += [None, None]\n",
    "        return cls(data.path, res, bs, num_workers, classes=['pos', 'neg'])"
   ]
  },
  {
   "cell_type": "code",
   "execution_count": 25,
   "metadata": {},
   "outputs": [],
   "source": [
    "class SiameseModel(nn.Module):\n",
    "    def __init__(self, mdl):\n",
    "        super().__init__()\n",
    "        self.mdl = mdl\n",
    "        self.pdist = nn.PairwiseDistance()\n",
    "        self.ffc = nn.Linear(1, 2)\n",
    "    \n",
    "#     def emb_out(self, inp):\n",
    "#         out = F.relu(self.mdl.bn1(self.mdl.conv1(inp)))\n",
    "#         out = F.adaptive_avg_pool2d(self.mdl.lyrs(out), 1)\n",
    "#         out = out.view(out.size(0), -1)\n",
    "#         return out\n",
    "    \n",
    "    def forward(self, inp0, inp1, y0, y1, targ):\n",
    "        o0 = self.mdl.emb_out(inp0)\n",
    "        o1 = self.mdl.emb_out(inp1)\n",
    "#         import pdb; pdb.set_trace()\n",
    "        out = self.pdist(o0, o1)\n",
    "        out = F.log_softmax(self.ffc(out),dim=-1)\n",
    "#         import pdb; pdb.set_trace()\n",
    "        return out"
   ]
  },
  {
   "cell_type": "code",
   "execution_count": 12,
   "metadata": {},
   "outputs": [],
   "source": [
    "class ContrastiveLoss(nn.Module):\n",
    "    def __init__(self, margin):\n",
    "        super().__init__()\n",
    "        self.margin = margin\n",
    "    def forward(self, outp, targ, size_average=True):\n",
    "        tmp1 = targ.float() * outp**2 \n",
    "        tmp2 = (1 - targ.float())\n",
    "        tmp3 = F.relu(self.margin - outp)\n",
    "        tmp4 = tmp2 * tmp3**2\n",
    "        res = (tmp1 + tmp4) / 2\n",
    "        return res.mean() if size_average else res.sum()"
   ]
  },
  {
   "cell_type": "code",
   "execution_count": 14,
   "metadata": {},
   "outputs": [],
   "source": [
    "def acc_siamese(preds, targs):\n",
    "    s = np.zeros(targs.shape)\n",
    "    p = np.where(preds > 0.5)[0]\n",
    "    s[p] = 1\n",
    "    return (s==targs.cpu().numpy()).mean()"
   ]
  },
  {
   "cell_type": "code",
   "execution_count": 32,
   "metadata": {},
   "outputs": [],
   "source": [
    "md_mbl = mblnetv1(depthwise_block, \n",
    "              inc_list=[64, 64, 128, 256], \n",
    "              inc_scale = 1, \n",
    "              num_blocks_list=[2, 2, 2], \n",
    "              stride_list=[1, 2, 2], \n",
    "              num_classes=10)"
   ]
  },
  {
   "cell_type": "code",
   "execution_count": 18,
   "metadata": {},
   "outputs": [],
   "source": [
    "learn1 = ConvLearner.from_model_data(md_mbl, data)\n",
    "learn1.load('mobilenetv1_3')"
   ]
  },
  {
   "cell_type": "code",
   "execution_count": 24,
   "metadata": {},
   "outputs": [
    {
     "data": {
      "application/vnd.jupyter.widget-view+json": {
       "model_id": "ead7bfe87f01410fbc9857ef2c239ad0",
       "version_major": 2,
       "version_minor": 0
      },
      "text/plain": [
       "HBox(children=(IntProgress(value=0, description='Epoch', max=1), HTML(value='')))"
      ]
     },
     "metadata": {},
     "output_type": "display_data"
    },
    {
     "name": "stdout",
     "output_type": "stream",
     "text": [
      "epoch      trn_loss   val_loss   accuracy                    \n",
      "    0      0.259186   0.339189   0.8875    \n",
      "\n"
     ]
    },
    {
     "data": {
      "text/plain": [
       "[array([0.33919]), 0.8875]"
      ]
     },
     "execution_count": 24,
     "metadata": {},
     "output_type": "execute_result"
    }
   ],
   "source": [
    "learn1.fit(0, 1)"
   ]
  },
  {
   "cell_type": "code",
   "execution_count": 33,
   "metadata": {},
   "outputs": [],
   "source": [
    "# md_mbl = EmbeddingNet()\n",
    "# md_mbl_trained = learn1.model\n",
    "sia_mdl = SiameseModel(md_mbl)\n",
    "sia_data = SiameseData.from_image_classifier_data(data)\n",
    "learn = ConvLearner.from_model_data(sia_mdl, sia_data)"
   ]
  },
  {
   "cell_type": "code",
   "execution_count": 20,
   "metadata": {},
   "outputs": [],
   "source": [
    "# learn.crit = ContrastiveLoss(margin=1)\n",
    "# learn.predict()\n",
    "# learn.fit(1e-2, 3, cycle_len=1, metrics=[acc_siamese])"
   ]
  },
  {
   "cell_type": "code",
   "execution_count": 34,
   "metadata": {},
   "outputs": [
    {
     "data": {
      "application/vnd.jupyter.widget-view+json": {
       "model_id": "",
       "version_major": 2,
       "version_minor": 0
      },
      "text/plain": [
       "HBox(children=(IntProgress(value=0, description='Epoch', max=3), HTML(value='')))"
      ]
     },
     "metadata": {},
     "output_type": "display_data"
    },
    {
     "name": "stdout",
     "output_type": "stream",
     "text": [
      "epoch      trn_loss   val_loss   accuracy                    \n",
      "    0      0.604433   0.596333   0.6711    \n",
      "    1      0.593759   0.580405   0.6879                      \n",
      "    2      0.567241   0.559725   0.7069                      \n",
      "\n"
     ]
    },
    {
     "data": {
      "text/plain": [
       "[array([0.55973]), 0.7069]"
      ]
     },
     "execution_count": 34,
     "metadata": {},
     "output_type": "execute_result"
    }
   ],
   "source": [
    "learn.fit(1e-1, 3, cycle_len=1)"
   ]
  },
  {
   "cell_type": "code",
   "execution_count": 35,
   "metadata": {},
   "outputs": [
    {
     "data": {
      "application/vnd.jupyter.widget-view+json": {
       "model_id": "",
       "version_major": 2,
       "version_minor": 0
      },
      "text/plain": [
       "HBox(children=(IntProgress(value=0, description='Epoch', max=20), HTML(value='')))"
      ]
     },
     "metadata": {},
     "output_type": "display_data"
    },
    {
     "name": "stdout",
     "output_type": "stream",
     "text": [
      "epoch      trn_loss   val_loss   accuracy                    \n",
      "    0      0.598594   0.602307   0.6647    \n",
      "    1      0.569675   0.550207   0.7152                      \n",
      "    2      0.546522   0.521318   0.7298                      \n",
      "    3      0.520268   0.505417   0.7481                      \n",
      "    4      0.515452   0.478688   0.7666                      \n",
      "    5      0.484826   0.464501   0.7705                      \n",
      "    6      0.46484    0.446984   0.7863                      \n",
      "    7      0.447556   0.431713   0.793                       \n",
      "    8      0.451877   0.420704   0.8004                      \n",
      "    9      0.439181   0.425464   0.7976                      \n",
      "    10     0.497102   0.463512   0.7743                      \n",
      "    11     0.471967   0.448574   0.786                       \n",
      "    12     0.461787   0.458407   0.7814                      \n",
      "    13     0.444516   0.428252   0.7969                      \n",
      "    14     0.437356   0.398396   0.8135                      \n",
      "    15     0.413933   0.396194   0.8154                      \n",
      "    16     0.401473   0.388499   0.8195                      \n",
      "    17     0.380022   0.375384   0.825                       \n",
      "    18     0.380591   0.359694   0.8373                      \n",
      "    19     0.366944   0.357372   0.8348                      \n",
      "\n"
     ]
    },
    {
     "data": {
      "text/plain": [
       "[array([0.35737]), 0.8348]"
      ]
     },
     "execution_count": 35,
     "metadata": {},
     "output_type": "execute_result"
    }
   ],
   "source": [
    "learn.fit(1e-1, 2, cycle_len=10)"
   ]
  },
  {
   "cell_type": "code",
   "execution_count": 35,
   "metadata": {},
   "outputs": [
    {
     "data": {
      "application/vnd.jupyter.widget-view+json": {
       "model_id": "",
       "version_major": 2,
       "version_minor": 0
      },
      "text/plain": [
       "HBox(children=(IntProgress(value=0, description='Epoch', max=20), HTML(value='')))"
      ]
     },
     "metadata": {},
     "output_type": "display_data"
    },
    {
     "name": "stdout",
     "output_type": "stream",
     "text": [
      "epoch      trn_loss   val_loss   accuracy                    \n",
      "    0      0.598594   0.602307   0.6647    \n",
      "    1      0.569675   0.550207   0.7152                      \n",
      "    2      0.546522   0.521318   0.7298                      \n",
      "    3      0.520268   0.505417   0.7481                      \n",
      "    4      0.515452   0.478688   0.7666                      \n",
      "    5      0.484826   0.464501   0.7705                      \n",
      "    6      0.46484    0.446984   0.7863                      \n",
      "    7      0.447556   0.431713   0.793                       \n",
      "    8      0.451877   0.420704   0.8004                      \n",
      "    9      0.439181   0.425464   0.7976                      \n",
      "    10     0.497102   0.463512   0.7743                      \n",
      "    11     0.471967   0.448574   0.786                       \n",
      "    12     0.461787   0.458407   0.7814                      \n",
      "    13     0.444516   0.428252   0.7969                      \n",
      "    14     0.437356   0.398396   0.8135                      \n",
      "    15     0.413933   0.396194   0.8154                      \n",
      "    16     0.401473   0.388499   0.8195                      \n",
      "    17     0.380022   0.375384   0.825                       \n",
      "    18     0.380591   0.359694   0.8373                      \n",
      "    19     0.366944   0.357372   0.8348                      \n",
      "\n"
     ]
    },
    {
     "data": {
      "text/plain": [
       "[array([0.35737]), 0.8348]"
      ]
     },
     "execution_count": 35,
     "metadata": {},
     "output_type": "execute_result"
    }
   ],
   "source": [
    "learn.fit(1e-1, 2, cycle_len=10)"
   ]
  },
  {
   "cell_type": "code",
   "execution_count": 36,
   "metadata": {},
   "outputs": [
    {
     "data": {
      "application/vnd.jupyter.widget-view+json": {
       "model_id": "",
       "version_major": 2,
       "version_minor": 0
      },
      "text/plain": [
       "HBox(children=(IntProgress(value=0, description='Epoch', max=20), HTML(value='')))"
      ]
     },
     "metadata": {},
     "output_type": "display_data"
    },
    {
     "name": "stdout",
     "output_type": "stream",
     "text": [
      "epoch      trn_loss   val_loss   accuracy                    \n",
      "    0      0.438301   0.433398   0.7931    \n",
      "    1      0.428252   0.416338   0.8025                      \n",
      "    2      0.415245   0.409257   0.8058                      \n",
      "    3      0.397022   0.391332   0.8139                      \n",
      "    4      0.389665   0.376615   0.8265                      \n",
      "    5      0.381606   0.351701   0.8411                      \n",
      "    6      0.355832   0.34792    0.8417                      \n",
      "    7      0.370487   0.341653   0.8445                      \n",
      "    8      0.346154   0.334467   0.8518                      \n",
      "    9      0.333973   0.335092   0.8496                      \n",
      "    10     0.386522   0.379303   0.823                       \n",
      "    11     0.376059   0.369022   0.8306                      \n",
      "    12     0.386341   0.35766    0.8406                      \n",
      "    13     0.36435    0.360092   0.8383                      \n",
      "    14     0.365056   0.348125   0.8437                      \n",
      "    15     0.339913   0.334075   0.8495                      \n",
      "    16     0.338408   0.333518   0.8518                      \n",
      "    17     0.329963   0.328162   0.8541                      \n",
      "    18     0.327827   0.320798   0.862                       \n",
      "    19     0.329169   0.318135   0.8615                      \n",
      "\n"
     ]
    },
    {
     "data": {
      "text/plain": [
       "[array([0.31813]), 0.8615]"
      ]
     },
     "execution_count": 36,
     "metadata": {},
     "output_type": "execute_result"
    }
   ],
   "source": [
    "learn.fit(1e-1, 2, cycle_len=10)"
   ]
  },
  {
   "cell_type": "code",
   "execution_count": 37,
   "metadata": {},
   "outputs": [
    {
     "data": {
      "application/vnd.jupyter.widget-view+json": {
       "model_id": "",
       "version_major": 2,
       "version_minor": 0
      },
      "text/plain": [
       "HBox(children=(IntProgress(value=0, description='Epoch', max=40), HTML(value='')))"
      ]
     },
     "metadata": {},
     "output_type": "display_data"
    },
    {
     "name": "stdout",
     "output_type": "stream",
     "text": [
      "epoch      trn_loss   val_loss   accuracy                    \n",
      "    0      0.319367   0.317896   0.8624    \n",
      "    1      0.367173   0.396415   0.8164                      \n",
      "    2      0.38018    0.403097   0.817                       \n",
      "    3      0.35979    0.333851   0.849                       \n",
      "    4      0.366961   0.347397   0.8452                      \n",
      "    5      0.342214   0.349037   0.8444                      \n",
      "    6      0.339792   0.334612   0.8518                      \n",
      "    7      0.348944   0.322016   0.8597                      \n",
      "    8      0.327411   0.340066   0.8528                      \n",
      "    9      0.317035   0.320986   0.8619                      \n",
      "    10     0.318865   0.30911    0.8635                      \n",
      "    11     0.303005   0.315545   0.8629                      \n",
      "    12     0.312601   0.307441   0.8643                      \n",
      "    13     0.288525   0.292337   0.873                       \n",
      "    14     0.290255   0.285307   0.8751                      \n",
      "    15     0.298328   0.296483   0.8718                      \n",
      "    16     0.281967   0.295969   0.8714                      \n",
      "    17     0.274133   0.286318   0.8789                      \n",
      "    18     0.268519   0.281771   0.877                       \n",
      "    19     0.274193   0.282607   0.8773                      \n",
      "    20     0.338134   0.34464    0.8441                      \n",
      "    21     0.33031    0.330445   0.851                       \n",
      "    22     0.316759   0.334388   0.8526                      \n",
      "    23     0.33446    0.314616   0.8619                      \n",
      "    24     0.330558   0.329298   0.8563                      \n",
      "    25     0.30733    0.320001   0.8627                      \n",
      "    26     0.307981   0.311528   0.867                       \n",
      "    27     0.30798    0.307653   0.8674                      \n",
      "    28     0.283327   0.319899   0.8662                      \n",
      "    29     0.303377   0.289877   0.8746                      \n",
      "    30     0.284737   0.29044    0.8733                      \n",
      "    31     0.272661   0.290379   0.8748                      \n",
      "    32     0.272415   0.27454    0.8809                      \n",
      "    33     0.264978   0.278935   0.8795                      \n",
      "    34     0.262578   0.268346   0.8821                      \n",
      "    35     0.260047   0.277956   0.8824                      \n",
      "    36     0.265616   0.273958   0.8834                      \n",
      "    37     0.245166   0.265459   0.887                       \n",
      "    38     0.242631   0.270657   0.8845                      \n",
      "    39     0.260884   0.269838   0.888                       \n",
      "\n"
     ]
    },
    {
     "data": {
      "text/plain": [
       "[array([0.26984]), 0.888]"
      ]
     },
     "execution_count": 37,
     "metadata": {},
     "output_type": "execute_result"
    }
   ],
   "source": [
    "learn.fit(1e-1, 2, cycle_len=20)"
   ]
  },
  {
   "cell_type": "code",
   "execution_count": 38,
   "metadata": {},
   "outputs": [],
   "source": [
    "learn.save('mbnet1_siam1')"
   ]
  },
  {
   "cell_type": "code",
   "execution_count": 40,
   "metadata": {},
   "outputs": [],
   "source": [
    "learn.load('mbnet1_siam1')"
   ]
  },
  {
   "cell_type": "code",
   "execution_count": 41,
   "metadata": {},
   "outputs": [
    {
     "data": {
      "application/vnd.jupyter.widget-view+json": {
       "model_id": "",
       "version_major": 2,
       "version_minor": 0
      },
      "text/plain": [
       "HBox(children=(IntProgress(value=0, description='Epoch', max=2), HTML(value='')))"
      ]
     },
     "metadata": {},
     "output_type": "display_data"
    },
    {
     "name": "stdout",
     "output_type": "stream",
     "text": [
      "epoch      trn_loss   val_loss   accuracy                    \n",
      "    0      0.261653   0.268922   0.885     \n",
      "    1      0.255375   0.266008   0.8895                      \n",
      "\n"
     ]
    },
    {
     "data": {
      "text/plain": [
       "[array([0.26601]), 0.8895]"
      ]
     },
     "execution_count": 41,
     "metadata": {},
     "output_type": "execute_result"
    }
   ],
   "source": [
    "learn.fit(1e-2, 2, cycle_len=1, best_save_name='mbnet_siam2')"
   ]
  },
  {
   "cell_type": "code",
   "execution_count": 43,
   "metadata": {},
   "outputs": [],
   "source": [
    "learn.load('mbnet_siam2')\n",
    "learn.unfreeze()"
   ]
  },
  {
   "cell_type": "code",
   "execution_count": 44,
   "metadata": {},
   "outputs": [
    {
     "data": {
      "application/vnd.jupyter.widget-view+json": {
       "model_id": "8d4722a0a3724d1ca683f3396e7bfce4",
       "version_major": 2,
       "version_minor": 0
      },
      "text/plain": [
       "HBox(children=(IntProgress(value=0, description='Epoch', max=2), HTML(value='')))"
      ]
     },
     "metadata": {},
     "output_type": "display_data"
    },
    {
     "name": "stdout",
     "output_type": "stream",
     "text": [
      "epoch      trn_loss   val_loss   accuracy                    \n",
      "    0      0.269921   0.275691   0.8798    \n",
      "    1      0.274408   0.285801   0.8761                      \n",
      "\n"
     ]
    },
    {
     "data": {
      "text/plain": [
       "[array([0.2858]), 0.8761]"
      ]
     },
     "execution_count": 44,
     "metadata": {},
     "output_type": "execute_result"
    }
   ],
   "source": [
    "learn.fit(1e-1, 2, cycle_len=1, use_clr=(20, 5), best_save_name='mbnet_siam3')"
   ]
  }
 ],
 "metadata": {
  "kernelspec": {
   "display_name": "Python 3",
   "language": "python",
   "name": "python3"
  },
  "language_info": {
   "codemirror_mode": {
    "name": "ipython",
    "version": 3
   },
   "file_extension": ".py",
   "mimetype": "text/x-python",
   "name": "python",
   "nbconvert_exporter": "python",
   "pygments_lexer": "ipython3",
   "version": "3.6.5"
  }
 },
 "nbformat": 4,
 "nbformat_minor": 2
}
