{
 "cells": [
  {
   "cell_type": "code",
   "execution_count": 1,
   "metadata": {},
   "outputs": [],
   "source": [
    "import matplotlib\n",
    "matplotlib.use('Agg')"
   ]
  },
  {
   "cell_type": "code",
   "execution_count": 2,
   "metadata": {},
   "outputs": [],
   "source": [
    "from tqdm import tqdm\n",
    "tqdm.monitor_interval = 0\n",
    "\n",
    "from fastai.imports import *\n",
    "from fastai.transforms import *\n",
    "from fastai.conv_learner import *\n",
    "from fastai.model import *\n",
    "from fastai.dataset import *\n",
    "from fastai.sgdr import *\n",
    "from fastai.plots import *\n",
    "import json\n",
    "import pandas as pd\n",
    "from sklearn.metrics import *"
   ]
  },
  {
   "cell_type": "code",
   "execution_count": 3,
   "metadata": {},
   "outputs": [],
   "source": [
    "%matplotlib inline\n",
    "%reload_ext autoreload\n",
    "%autoreload 2"
   ]
  },
  {
   "cell_type": "code",
   "execution_count": 4,
   "metadata": {},
   "outputs": [],
   "source": [
    "from mobile_net import *"
   ]
  },
  {
   "cell_type": "code",
   "execution_count": 5,
   "metadata": {},
   "outputs": [],
   "source": [
    "from cifar10 import get_data"
   ]
  },
  {
   "cell_type": "code",
   "execution_count": 6,
   "metadata": {},
   "outputs": [],
   "source": [
    "PATH = Path(\"/scratch/arka/miniconda3/external/fastai/courses/dl2/data/cifar10/\")\n",
    "classes = ('plane', 'car', 'bird', 'cat', 'deer', 'dog', 'frog', 'horse', 'ship', 'truck')"
   ]
  },
  {
   "cell_type": "code",
   "execution_count": 7,
   "metadata": {},
   "outputs": [],
   "source": [
    "sz = 32\n",
    "bs = 128"
   ]
  },
  {
   "cell_type": "code",
   "execution_count": 8,
   "metadata": {},
   "outputs": [],
   "source": [
    "data = get_data(sz, bs, PATH)"
   ]
  },
  {
   "cell_type": "code",
   "execution_count": 9,
   "metadata": {},
   "outputs": [],
   "source": [
    "class SiameseDS(BaseDataset):\n",
    "    def __init__(self, ds, wgt_pos_neg=0.5):\n",
    "        self.ds = ds\n",
    "        super().__init__(ds.transform)\n",
    "        self.label_set = set(data.trn_ds.y)\n",
    "        self.l2i = {l: np.where(l == ds.y)[0] \n",
    "                    for l in self.label_set}\n",
    "        self.wgt = T(wgt_pos_neg)\n",
    "    \n",
    "    def __len__(self):\n",
    "        return self.get_n()\n",
    "        \n",
    "    def get_n(self):\n",
    "        return self.ds.n\n",
    "    \n",
    "    def get_c(self):\n",
    "        return 2\n",
    "    \n",
    "    def get_sz(self):\n",
    "        return self.ds.sz\n",
    "    \n",
    "    def get_x(self, i):\n",
    "        return self.ds.get_x(i)\n",
    "    \n",
    "    def get_y(self, i):\n",
    "        return self.ds.get_y(i)\n",
    "    \n",
    "    def __getitem__(self, idx):\n",
    "        targ = np.random.randint(0, 2)\n",
    "        x1, y1 = self.get1item(idx)\n",
    "        if targ == 1:\n",
    "            new_idx = np.random.choice(self.l2i[y1])\n",
    "            x2, y2 = self.get1item(new_idx)\n",
    "            assert y1 == y2\n",
    "        else:\n",
    "            new_c = np.random.choice(sorted(list(self.label_set - {y1})))\n",
    "            new_idx = np.random.choice(self.l2i[new_c])\n",
    "            x2, y2 = self.get1item(new_idx)\n",
    "            assert y1 != y2\n",
    "        return [x1, x2, targ]"
   ]
  },
  {
   "cell_type": "code",
   "execution_count": 10,
   "metadata": {},
   "outputs": [],
   "source": [
    "class SiameseData(ImageData):\n",
    "    @classmethod\n",
    "    def from_image_classifier_data(cls, data, bs=64, num_workers=4):\n",
    "        trn_ds = SiameseDS(data.trn_dl.dataset)\n",
    "        val_ds = SiameseDS(data.val_dl.dataset)\n",
    "        fix_ds = SiameseDS(data.fix_dl.dataset)\n",
    "        aug_ds = SiameseDS(data.aug_dl.dataset)\n",
    "        res = [trn_ds, val_ds, fix_ds, aug_ds]\n",
    "        if data.test_dl is not None:\n",
    "            test_ds = SiameseDS(data.test_dl.dataset)\n",
    "            test_aug = SiameseDS(data.test_aug_dl.dataset)\n",
    "            res += [test_ds, test_aug]\n",
    "        else:\n",
    "            res += [None, None]\n",
    "        return cls(data.path, res, bs, num_workers, classes=['pos', 'neg'])"
   ]
  },
  {
   "cell_type": "code",
   "execution_count": 11,
   "metadata": {},
   "outputs": [],
   "source": [
    "class SiameseModel(nn.Module):\n",
    "    def __init__(self, mdl):\n",
    "        super().__init__()\n",
    "        self.mdl = mdl\n",
    "        self.pdist = nn.PairwiseDistance()\n",
    "    \n",
    "#     def emb_out(self, inp):\n",
    "#         out = F.relu(self.mdl.bn1(self.mdl.conv1(inp)))\n",
    "#         out = F.adaptive_avg_pool2d(self.mdl.lyrs(out), 1)\n",
    "#         out = out.view(out.size(0), -1)\n",
    "#         return out\n",
    "    \n",
    "    def forward(self, inp0, inp1):\n",
    "        o0 = self.mdl.emb_out(inp0)\n",
    "        o1 = self.mdl.emb_out(inp1)\n",
    "#         import pdb; pdb.set_trace()\n",
    "        out = self.pdist(o0, o1)\n",
    "#         import pdb; pdb.set_trace()\n",
    "        return out"
   ]
  },
  {
   "cell_type": "code",
   "execution_count": 12,
   "metadata": {},
   "outputs": [],
   "source": [
    "class ContrastiveLoss(nn.Module):\n",
    "    def __init__(self, margin):\n",
    "        super().__init__()\n",
    "        self.margin = margin\n",
    "    def forward(self, outp, targ, size_average=True):\n",
    "        tmp1 = targ.float() * outp**2 \n",
    "        tmp2 = (1 - targ.float())\n",
    "        tmp3 = F.relu(self.margin - outp)\n",
    "        tmp4 = tmp2 * tmp3**2\n",
    "        res = (tmp1 + tmp4) / 2\n",
    "        return res.mean() if size_average else res.sum()"
   ]
  },
  {
   "cell_type": "code",
   "execution_count": 17,
   "metadata": {},
   "outputs": [],
   "source": [
    "??nn.Conv2d"
   ]
  },
  {
   "cell_type": "code",
   "execution_count": 24,
   "metadata": {},
   "outputs": [],
   "source": [
    "class EmbeddingNet(nn.Module):\n",
    "    def __init__(self):\n",
    "        super(EmbeddingNet, self).__init__()\n",
    "        self.convnet = nn.Sequential(nn.Conv2d(3, 32, 5), nn.PReLU(),\n",
    "                                     nn.MaxPool2d(2, stride=2),\n",
    "                                     nn.Conv2d(32, 64, 5), nn.PReLU(),\n",
    "                                     nn.MaxPool2d(2, stride=2))\n",
    "\n",
    "        self.fc = nn.Sequential(nn.Linear(1600, 256),\n",
    "                                nn.PReLU(),\n",
    "                                nn.Linear(256, 256),\n",
    "                                nn.PReLU(),\n",
    "                                nn.Linear(256, 2)\n",
    "                                )\n",
    "\n",
    "    def forward(self, x):\n",
    "        output = self.convnet(x)\n",
    "        output = output.view(output.size()[0], -1)\n",
    "        output = self.fc(output)\n",
    "        return output\n",
    "    \n",
    "    def emb_out(self, x):\n",
    "        return self.forward(x)\n",
    "\n",
    "    def get_embedding(self, x):\n",
    "        return self.forward(x)"
   ]
  },
  {
   "cell_type": "code",
   "execution_count": 27,
   "metadata": {},
   "outputs": [],
   "source": [
    "??accuracy"
   ]
  },
  {
   "cell_type": "code",
   "execution_count": 67,
   "metadata": {},
   "outputs": [],
   "source": [
    "def acc_siamese(preds, targs):\n",
    "    s = np.zeros(targs.shape)\n",
    "    p = np.where(preds > 0.5)[0]\n",
    "    s[p] = 1\n",
    "    return (s==targs.cpu().numpy()).mean()"
   ]
  },
  {
   "cell_type": "code",
   "execution_count": 61,
   "metadata": {},
   "outputs": [],
   "source": [
    "p,t = learn.predict_with_targs()"
   ]
  },
  {
   "cell_type": "code",
   "execution_count": 68,
   "metadata": {},
   "outputs": [
    {
     "data": {
      "application/vnd.jupyter.widget-view+json": {
       "model_id": "c63f4185603d469db6d326eb7f35c73d",
       "version_major": 2,
       "version_minor": 0
      },
      "text/plain": [
       "HBox(children=(IntProgress(value=0, description='Epoch', max=3), HTML(value='')))"
      ]
     },
     "metadata": {},
     "output_type": "display_data"
    },
    {
     "name": "stdout",
     "output_type": "stream",
     "text": [
      "epoch      trn_loss   val_loss   acc_siamese                 \n",
      "    0      0.148218   0.150396   0.4707    \n",
      "    1      0.148321   0.148054   0.4771                      \n",
      "    2      0.14728    0.148373   0.4901                      \n",
      "\n"
     ]
    },
    {
     "data": {
      "text/plain": [
       "[array([0.14837]), 0.4901]"
      ]
     },
     "execution_count": 68,
     "metadata": {},
     "output_type": "execute_result"
    }
   ],
   "source": [
    "# md_mbl = mblnetv1(depthwise_block, \n",
    "#               inc_list=[64, 64, 128, 256], \n",
    "#               inc_scale = 1, \n",
    "#               num_blocks_list=[2, 2, 2], \n",
    "#               stride_list=[1, 2, 2], \n",
    "#               num_classes=10)\n",
    "md_mbl = EmbeddingNet()\n",
    "sia_mdl = SiameseModel(md_mbl)\n",
    "sia_data = SiameseData.from_image_classifier_data(data)\n",
    "learn = ConvLearner.from_model_data(sia_mdl, sia_data)\n",
    "\n",
    "learn.crit = ContrastiveLoss(margin=1)\n",
    "# learn.predict()\n",
    "learn.fit(1e-2, 3, cycle_len=1, metrics=[acc_siamese])"
   ]
  },
  {
   "cell_type": "code",
   "execution_count": null,
   "metadata": {},
   "outputs": [],
   "source": [
    "logp = learn.predict()"
   ]
  }
 ],
 "metadata": {
  "kernelspec": {
   "display_name": "Python 3",
   "language": "python",
   "name": "python3"
  },
  "language_info": {
   "codemirror_mode": {
    "name": "ipython",
    "version": 3
   },
   "file_extension": ".py",
   "mimetype": "text/x-python",
   "name": "python",
   "nbconvert_exporter": "python",
   "pygments_lexer": "ipython3",
   "version": "3.6.5"
  }
 },
 "nbformat": 4,
 "nbformat_minor": 2
}
