{
 "cells": [
  {
   "cell_type": "code",
   "execution_count": 1,
   "metadata": {},
   "outputs": [],
   "source": [
    "import matplotlib\n",
    "matplotlib.use('Agg')\n",
    "import sys\n",
    "# sys.path.append(\"/home/ec2-user/anaconda3/external/fastai/\")\n",
    "sys.path.append('/scratch/arka/miniconda3/external/fastai/')\n",
    "\n",
    "\n",
    "from tqdm import tqdm\n",
    "tqdm.monitor_interval = 0\n",
    "\n",
    "from fastai.imports import *\n",
    "from fastai.transforms import *\n",
    "from fastai.conv_learner import *\n",
    "from fastai.model import *\n",
    "from fastai.dataset import *\n",
    "from fastai.sgdr import *\n",
    "from fastai.plots import *\n",
    "import json\n",
    "import pandas as pd\n",
    "from sklearn.metrics import *"
   ]
  },
  {
   "cell_type": "code",
   "execution_count": 2,
   "metadata": {},
   "outputs": [],
   "source": [
    "%matplotlib inline\n",
    "%reload_ext autoreload\n",
    "%autoreload 2"
   ]
  },
  {
   "cell_type": "code",
   "execution_count": 3,
   "metadata": {},
   "outputs": [],
   "source": [
    "PATH = Path(\"/scratch/arka/miniconda3/external/fastai/courses/dl2/data/cifar10/\")\n",
    "classes = ('plane', 'car', 'bird', 'cat', 'deer', 'dog', 'frog', 'horse', 'ship', 'truck')\n",
    "stats = (np.array([ 0.4914 ,  0.48216,  0.44653]), np.array([ 0.24703,  0.24349,  0.26159]))\n",
    "def get_data(sz,bs):\n",
    "    tfms = tfms_from_stats(stats, sz, aug_tfms=[RandomFlip()], pad=sz//8)\n",
    "    return ImageClassifierData.from_paths(PATH, val_name='test', tfms=tfms, bs=bs)"
   ]
  },
  {
   "cell_type": "code",
   "execution_count": 4,
   "metadata": {},
   "outputs": [],
   "source": [
    "def total_model_params(summary):\n",
    "    total_params = 0\n",
    "    for key,value in summary.items():\n",
    "        total_params+=int(summary[key]['nb_params'])\n",
    "    print(\"Total parameters in the model :\"+str(total_params))"
   ]
  },
  {
   "cell_type": "code",
   "execution_count": 5,
   "metadata": {},
   "outputs": [],
   "source": [
    "bs=128\n",
    "sz=32"
   ]
  },
  {
   "cell_type": "code",
   "execution_count": 6,
   "metadata": {},
   "outputs": [],
   "source": [
    "class depthwise_block(nn.Module):\n",
    "    def __init__(self, in_c, out_c, stride=1):\n",
    "        super().__init__()\n",
    "        self.bn1 = nn.BatchNorm2d(in_c)\n",
    "        self.conv1 = nn.Conv2d(in_c, in_c, kernel_size=3, \n",
    "                               stride=stride, padding=1,\n",
    "                               groups=in_c, bias=False)\n",
    "        self.conv2 = nn.Conv2d(in_c, out_c, kernel_size=1,\n",
    "                              stride=1, bias=False)\n",
    "        self.bn2 = nn.BatchNorm2d(out_c)\n",
    "    \n",
    "    def forward(self, inp):\n",
    "        out = F.relu(self.bn1(self.conv1(inp)))\n",
    "        out = F.relu(self.bn2(self.conv2(out)))\n",
    "        return out"
   ]
  },
  {
   "cell_type": "code",
   "execution_count": 7,
   "metadata": {},
   "outputs": [],
   "source": [
    "class mblnetv1(nn.Module):\n",
    "    def __init__(self, block, inc_list, inc_scale, num_blocks_list, stride_list, num_classes):\n",
    "        super().__init__()\n",
    "        self.num_blocks = len(num_blocks_list)\n",
    "        inc_list1 = [o//inc_scale for o in inc_list]\n",
    "        self.in_planes = inc_list1[0]\n",
    "        self.conv1 = nn.Conv2d(3, self.in_planes, kernel_size=3, stride=1, padding=1, bias=False)\n",
    "        self.bn1 = nn.BatchNorm2d(self.in_planes)\n",
    "        \n",
    "        lyrs = []\n",
    "        for inc, nb, strl in zip(inc_list1[1:], num_blocks_list, stride_list):\n",
    "            lyrs.append(self._make_layer(block, inc, nb, strl))\n",
    "            \n",
    "        self.lyrs = nn.Sequential(*lyrs)\n",
    "        self.linear = nn.Linear(inc_list1[-1], num_classes)\n",
    "        \n",
    "    \n",
    "    def _make_layer(self, block, planes, num_blocks, stride):\n",
    "        strides = [stride] + [1]*(num_blocks-1)\n",
    "        layers = []\n",
    "        for stride in strides:\n",
    "            layers.append(block(self.in_planes, planes, stride))\n",
    "            self.in_planes = planes\n",
    "        return nn.Sequential(*layers)\n",
    "    \n",
    "    def forward(self, inp):\n",
    "        out = F.relu(self.bn1(self.conv1(inp)))\n",
    "        out = self.lyrs(out)\n",
    "        out = F.adaptive_avg_pool2d(out, 1)\n",
    "        out = out.view(out.size(0), -1)\n",
    "        out = self.linear(out)\n",
    "        return F.log_softmax(out, dim=-1)\n"
   ]
  },
  {
   "cell_type": "code",
   "execution_count": null,
   "metadata": {},
   "outputs": [],
   "source": [
    "# md_mbl = mblnetv1(depthwise_block, \n",
    "#               inc_list=[64, 64, 128, 256], \n",
    "#               inc_scale = 1, \n",
    "#               num_blocks_list=[2, 2, 2], \n",
    "#               stride_list=[1, 2, 2], \n",
    "#               num_classes=10)"
   ]
  },
  {
   "cell_type": "code",
   "execution_count": 8,
   "metadata": {},
   "outputs": [],
   "source": [
    "md_mbl2 = mblnetv1(depthwise_block, \n",
    "              inc_list=[32, 64, 128, 128, 256, 256, 512, 512, 1024, 1024], \n",
    "              inc_scale = 1, \n",
    "              num_blocks_list=[1, 1, 1, 1, 1, 1, 4, 1, 1], \n",
    "              stride_list=[1, 2, 1, 2, 1, 2, 1, 2, 1], \n",
    "              num_classes=10)"
   ]
  },
  {
   "cell_type": "code",
   "execution_count": null,
   "metadata": {},
   "outputs": [],
   "source": [
    "!ls {PATH / 'train'}"
   ]
  },
  {
   "cell_type": "code",
   "execution_count": 9,
   "metadata": {},
   "outputs": [],
   "source": [
    "data = get_data(sz, bs)"
   ]
  },
  {
   "cell_type": "code",
   "execution_count": 10,
   "metadata": {},
   "outputs": [],
   "source": [
    "learn = ConvLearner.from_model_data(md_mbl2, data)"
   ]
  },
  {
   "cell_type": "code",
   "execution_count": 11,
   "metadata": {
    "collapsed": true
   },
   "outputs": [
    {
     "data": {
      "text/plain": [
       "OrderedDict([('Conv2d-1',\n",
       "              OrderedDict([('input_shape', [-1, 3, 32, 32]),\n",
       "                           ('output_shape', [-1, 32, 32, 32]),\n",
       "                           ('trainable', True),\n",
       "                           ('nb_params', 864)])),\n",
       "             ('BatchNorm2d-2',\n",
       "              OrderedDict([('input_shape', [-1, 32, 32, 32]),\n",
       "                           ('output_shape', [-1, 32, 32, 32]),\n",
       "                           ('trainable', True),\n",
       "                           ('nb_params', 64)])),\n",
       "             ('Conv2d-3',\n",
       "              OrderedDict([('input_shape', [-1, 32, 32, 32]),\n",
       "                           ('output_shape', [-1, 32, 32, 32]),\n",
       "                           ('trainable', True),\n",
       "                           ('nb_params', 288)])),\n",
       "             ('BatchNorm2d-4',\n",
       "              OrderedDict([('input_shape', [-1, 32, 32, 32]),\n",
       "                           ('output_shape', [-1, 32, 32, 32]),\n",
       "                           ('trainable', True),\n",
       "                           ('nb_params', 64)])),\n",
       "             ('Conv2d-5',\n",
       "              OrderedDict([('input_shape', [-1, 32, 32, 32]),\n",
       "                           ('output_shape', [-1, 64, 32, 32]),\n",
       "                           ('trainable', True),\n",
       "                           ('nb_params', 2048)])),\n",
       "             ('BatchNorm2d-6',\n",
       "              OrderedDict([('input_shape', [-1, 64, 32, 32]),\n",
       "                           ('output_shape', [-1, 64, 32, 32]),\n",
       "                           ('trainable', True),\n",
       "                           ('nb_params', 128)])),\n",
       "             ('depthwise_block-7',\n",
       "              OrderedDict([('input_shape', [-1, 32, 32, 32]),\n",
       "                           ('output_shape', [-1, 64, 32, 32]),\n",
       "                           ('nb_params', 0)])),\n",
       "             ('Conv2d-8',\n",
       "              OrderedDict([('input_shape', [-1, 64, 32, 32]),\n",
       "                           ('output_shape', [-1, 64, 16, 16]),\n",
       "                           ('trainable', True),\n",
       "                           ('nb_params', 576)])),\n",
       "             ('BatchNorm2d-9',\n",
       "              OrderedDict([('input_shape', [-1, 64, 16, 16]),\n",
       "                           ('output_shape', [-1, 64, 16, 16]),\n",
       "                           ('trainable', True),\n",
       "                           ('nb_params', 128)])),\n",
       "             ('Conv2d-10',\n",
       "              OrderedDict([('input_shape', [-1, 64, 16, 16]),\n",
       "                           ('output_shape', [-1, 128, 16, 16]),\n",
       "                           ('trainable', True),\n",
       "                           ('nb_params', 8192)])),\n",
       "             ('BatchNorm2d-11',\n",
       "              OrderedDict([('input_shape', [-1, 128, 16, 16]),\n",
       "                           ('output_shape', [-1, 128, 16, 16]),\n",
       "                           ('trainable', True),\n",
       "                           ('nb_params', 256)])),\n",
       "             ('depthwise_block-12',\n",
       "              OrderedDict([('input_shape', [-1, 64, 32, 32]),\n",
       "                           ('output_shape', [-1, 128, 16, 16]),\n",
       "                           ('nb_params', 0)])),\n",
       "             ('Conv2d-13',\n",
       "              OrderedDict([('input_shape', [-1, 128, 16, 16]),\n",
       "                           ('output_shape', [-1, 128, 16, 16]),\n",
       "                           ('trainable', True),\n",
       "                           ('nb_params', 1152)])),\n",
       "             ('BatchNorm2d-14',\n",
       "              OrderedDict([('input_shape', [-1, 128, 16, 16]),\n",
       "                           ('output_shape', [-1, 128, 16, 16]),\n",
       "                           ('trainable', True),\n",
       "                           ('nb_params', 256)])),\n",
       "             ('Conv2d-15',\n",
       "              OrderedDict([('input_shape', [-1, 128, 16, 16]),\n",
       "                           ('output_shape', [-1, 128, 16, 16]),\n",
       "                           ('trainable', True),\n",
       "                           ('nb_params', 16384)])),\n",
       "             ('BatchNorm2d-16',\n",
       "              OrderedDict([('input_shape', [-1, 128, 16, 16]),\n",
       "                           ('output_shape', [-1, 128, 16, 16]),\n",
       "                           ('trainable', True),\n",
       "                           ('nb_params', 256)])),\n",
       "             ('depthwise_block-17',\n",
       "              OrderedDict([('input_shape', [-1, 128, 16, 16]),\n",
       "                           ('output_shape', [-1, 128, 16, 16]),\n",
       "                           ('nb_params', 0)])),\n",
       "             ('Conv2d-18',\n",
       "              OrderedDict([('input_shape', [-1, 128, 16, 16]),\n",
       "                           ('output_shape', [-1, 128, 8, 8]),\n",
       "                           ('trainable', True),\n",
       "                           ('nb_params', 1152)])),\n",
       "             ('BatchNorm2d-19',\n",
       "              OrderedDict([('input_shape', [-1, 128, 8, 8]),\n",
       "                           ('output_shape', [-1, 128, 8, 8]),\n",
       "                           ('trainable', True),\n",
       "                           ('nb_params', 256)])),\n",
       "             ('Conv2d-20',\n",
       "              OrderedDict([('input_shape', [-1, 128, 8, 8]),\n",
       "                           ('output_shape', [-1, 256, 8, 8]),\n",
       "                           ('trainable', True),\n",
       "                           ('nb_params', 32768)])),\n",
       "             ('BatchNorm2d-21',\n",
       "              OrderedDict([('input_shape', [-1, 256, 8, 8]),\n",
       "                           ('output_shape', [-1, 256, 8, 8]),\n",
       "                           ('trainable', True),\n",
       "                           ('nb_params', 512)])),\n",
       "             ('depthwise_block-22',\n",
       "              OrderedDict([('input_shape', [-1, 128, 16, 16]),\n",
       "                           ('output_shape', [-1, 256, 8, 8]),\n",
       "                           ('nb_params', 0)])),\n",
       "             ('Conv2d-23',\n",
       "              OrderedDict([('input_shape', [-1, 256, 8, 8]),\n",
       "                           ('output_shape', [-1, 256, 8, 8]),\n",
       "                           ('trainable', True),\n",
       "                           ('nb_params', 2304)])),\n",
       "             ('BatchNorm2d-24',\n",
       "              OrderedDict([('input_shape', [-1, 256, 8, 8]),\n",
       "                           ('output_shape', [-1, 256, 8, 8]),\n",
       "                           ('trainable', True),\n",
       "                           ('nb_params', 512)])),\n",
       "             ('Conv2d-25',\n",
       "              OrderedDict([('input_shape', [-1, 256, 8, 8]),\n",
       "                           ('output_shape', [-1, 256, 8, 8]),\n",
       "                           ('trainable', True),\n",
       "                           ('nb_params', 65536)])),\n",
       "             ('BatchNorm2d-26',\n",
       "              OrderedDict([('input_shape', [-1, 256, 8, 8]),\n",
       "                           ('output_shape', [-1, 256, 8, 8]),\n",
       "                           ('trainable', True),\n",
       "                           ('nb_params', 512)])),\n",
       "             ('depthwise_block-27',\n",
       "              OrderedDict([('input_shape', [-1, 256, 8, 8]),\n",
       "                           ('output_shape', [-1, 256, 8, 8]),\n",
       "                           ('nb_params', 0)])),\n",
       "             ('Conv2d-28',\n",
       "              OrderedDict([('input_shape', [-1, 256, 8, 8]),\n",
       "                           ('output_shape', [-1, 256, 4, 4]),\n",
       "                           ('trainable', True),\n",
       "                           ('nb_params', 2304)])),\n",
       "             ('BatchNorm2d-29',\n",
       "              OrderedDict([('input_shape', [-1, 256, 4, 4]),\n",
       "                           ('output_shape', [-1, 256, 4, 4]),\n",
       "                           ('trainable', True),\n",
       "                           ('nb_params', 512)])),\n",
       "             ('Conv2d-30',\n",
       "              OrderedDict([('input_shape', [-1, 256, 4, 4]),\n",
       "                           ('output_shape', [-1, 512, 4, 4]),\n",
       "                           ('trainable', True),\n",
       "                           ('nb_params', 131072)])),\n",
       "             ('BatchNorm2d-31',\n",
       "              OrderedDict([('input_shape', [-1, 512, 4, 4]),\n",
       "                           ('output_shape', [-1, 512, 4, 4]),\n",
       "                           ('trainable', True),\n",
       "                           ('nb_params', 1024)])),\n",
       "             ('depthwise_block-32',\n",
       "              OrderedDict([('input_shape', [-1, 256, 8, 8]),\n",
       "                           ('output_shape', [-1, 512, 4, 4]),\n",
       "                           ('nb_params', 0)])),\n",
       "             ('Conv2d-33',\n",
       "              OrderedDict([('input_shape', [-1, 512, 4, 4]),\n",
       "                           ('output_shape', [-1, 512, 4, 4]),\n",
       "                           ('trainable', True),\n",
       "                           ('nb_params', 4608)])),\n",
       "             ('BatchNorm2d-34',\n",
       "              OrderedDict([('input_shape', [-1, 512, 4, 4]),\n",
       "                           ('output_shape', [-1, 512, 4, 4]),\n",
       "                           ('trainable', True),\n",
       "                           ('nb_params', 1024)])),\n",
       "             ('Conv2d-35',\n",
       "              OrderedDict([('input_shape', [-1, 512, 4, 4]),\n",
       "                           ('output_shape', [-1, 512, 4, 4]),\n",
       "                           ('trainable', True),\n",
       "                           ('nb_params', 262144)])),\n",
       "             ('BatchNorm2d-36',\n",
       "              OrderedDict([('input_shape', [-1, 512, 4, 4]),\n",
       "                           ('output_shape', [-1, 512, 4, 4]),\n",
       "                           ('trainable', True),\n",
       "                           ('nb_params', 1024)])),\n",
       "             ('depthwise_block-37',\n",
       "              OrderedDict([('input_shape', [-1, 512, 4, 4]),\n",
       "                           ('output_shape', [-1, 512, 4, 4]),\n",
       "                           ('nb_params', 0)])),\n",
       "             ('Conv2d-38',\n",
       "              OrderedDict([('input_shape', [-1, 512, 4, 4]),\n",
       "                           ('output_shape', [-1, 512, 4, 4]),\n",
       "                           ('trainable', True),\n",
       "                           ('nb_params', 4608)])),\n",
       "             ('BatchNorm2d-39',\n",
       "              OrderedDict([('input_shape', [-1, 512, 4, 4]),\n",
       "                           ('output_shape', [-1, 512, 4, 4]),\n",
       "                           ('trainable', True),\n",
       "                           ('nb_params', 1024)])),\n",
       "             ('Conv2d-40',\n",
       "              OrderedDict([('input_shape', [-1, 512, 4, 4]),\n",
       "                           ('output_shape', [-1, 512, 4, 4]),\n",
       "                           ('trainable', True),\n",
       "                           ('nb_params', 262144)])),\n",
       "             ('BatchNorm2d-41',\n",
       "              OrderedDict([('input_shape', [-1, 512, 4, 4]),\n",
       "                           ('output_shape', [-1, 512, 4, 4]),\n",
       "                           ('trainable', True),\n",
       "                           ('nb_params', 1024)])),\n",
       "             ('depthwise_block-42',\n",
       "              OrderedDict([('input_shape', [-1, 512, 4, 4]),\n",
       "                           ('output_shape', [-1, 512, 4, 4]),\n",
       "                           ('nb_params', 0)])),\n",
       "             ('Conv2d-43',\n",
       "              OrderedDict([('input_shape', [-1, 512, 4, 4]),\n",
       "                           ('output_shape', [-1, 512, 4, 4]),\n",
       "                           ('trainable', True),\n",
       "                           ('nb_params', 4608)])),\n",
       "             ('BatchNorm2d-44',\n",
       "              OrderedDict([('input_shape', [-1, 512, 4, 4]),\n",
       "                           ('output_shape', [-1, 512, 4, 4]),\n",
       "                           ('trainable', True),\n",
       "                           ('nb_params', 1024)])),\n",
       "             ('Conv2d-45',\n",
       "              OrderedDict([('input_shape', [-1, 512, 4, 4]),\n",
       "                           ('output_shape', [-1, 512, 4, 4]),\n",
       "                           ('trainable', True),\n",
       "                           ('nb_params', 262144)])),\n",
       "             ('BatchNorm2d-46',\n",
       "              OrderedDict([('input_shape', [-1, 512, 4, 4]),\n",
       "                           ('output_shape', [-1, 512, 4, 4]),\n",
       "                           ('trainable', True),\n",
       "                           ('nb_params', 1024)])),\n",
       "             ('depthwise_block-47',\n",
       "              OrderedDict([('input_shape', [-1, 512, 4, 4]),\n",
       "                           ('output_shape', [-1, 512, 4, 4]),\n",
       "                           ('nb_params', 0)])),\n",
       "             ('Conv2d-48',\n",
       "              OrderedDict([('input_shape', [-1, 512, 4, 4]),\n",
       "                           ('output_shape', [-1, 512, 4, 4]),\n",
       "                           ('trainable', True),\n",
       "                           ('nb_params', 4608)])),\n",
       "             ('BatchNorm2d-49',\n",
       "              OrderedDict([('input_shape', [-1, 512, 4, 4]),\n",
       "                           ('output_shape', [-1, 512, 4, 4]),\n",
       "                           ('trainable', True),\n",
       "                           ('nb_params', 1024)])),\n",
       "             ('Conv2d-50',\n",
       "              OrderedDict([('input_shape', [-1, 512, 4, 4]),\n",
       "                           ('output_shape', [-1, 512, 4, 4]),\n",
       "                           ('trainable', True),\n",
       "                           ('nb_params', 262144)])),\n",
       "             ('BatchNorm2d-51',\n",
       "              OrderedDict([('input_shape', [-1, 512, 4, 4]),\n",
       "                           ('output_shape', [-1, 512, 4, 4]),\n",
       "                           ('trainable', True),\n",
       "                           ('nb_params', 1024)])),\n",
       "             ('depthwise_block-52',\n",
       "              OrderedDict([('input_shape', [-1, 512, 4, 4]),\n",
       "                           ('output_shape', [-1, 512, 4, 4]),\n",
       "                           ('nb_params', 0)])),\n",
       "             ('Conv2d-53',\n",
       "              OrderedDict([('input_shape', [-1, 512, 4, 4]),\n",
       "                           ('output_shape', [-1, 512, 2, 2]),\n",
       "                           ('trainable', True),\n",
       "                           ('nb_params', 4608)])),\n",
       "             ('BatchNorm2d-54',\n",
       "              OrderedDict([('input_shape', [-1, 512, 2, 2]),\n",
       "                           ('output_shape', [-1, 512, 2, 2]),\n",
       "                           ('trainable', True),\n",
       "                           ('nb_params', 1024)])),\n",
       "             ('Conv2d-55',\n",
       "              OrderedDict([('input_shape', [-1, 512, 2, 2]),\n",
       "                           ('output_shape', [-1, 1024, 2, 2]),\n",
       "                           ('trainable', True),\n",
       "                           ('nb_params', 524288)])),\n",
       "             ('BatchNorm2d-56',\n",
       "              OrderedDict([('input_shape', [-1, 1024, 2, 2]),\n",
       "                           ('output_shape', [-1, 1024, 2, 2]),\n",
       "                           ('trainable', True),\n",
       "                           ('nb_params', 2048)])),\n",
       "             ('depthwise_block-57',\n",
       "              OrderedDict([('input_shape', [-1, 512, 4, 4]),\n",
       "                           ('output_shape', [-1, 1024, 2, 2]),\n",
       "                           ('nb_params', 0)])),\n",
       "             ('Conv2d-58',\n",
       "              OrderedDict([('input_shape', [-1, 1024, 2, 2]),\n",
       "                           ('output_shape', [-1, 1024, 2, 2]),\n",
       "                           ('trainable', True),\n",
       "                           ('nb_params', 9216)])),\n",
       "             ('BatchNorm2d-59',\n",
       "              OrderedDict([('input_shape', [-1, 1024, 2, 2]),\n",
       "                           ('output_shape', [-1, 1024, 2, 2]),\n",
       "                           ('trainable', True),\n",
       "                           ('nb_params', 2048)])),\n",
       "             ('Conv2d-60',\n",
       "              OrderedDict([('input_shape', [-1, 1024, 2, 2]),\n",
       "                           ('output_shape', [-1, 1024, 2, 2]),\n",
       "                           ('trainable', True),\n",
       "                           ('nb_params', 1048576)])),\n",
       "             ('BatchNorm2d-61',\n",
       "              OrderedDict([('input_shape', [-1, 1024, 2, 2]),\n",
       "                           ('output_shape', [-1, 1024, 2, 2]),\n",
       "                           ('trainable', True),\n",
       "                           ('nb_params', 2048)])),\n",
       "             ('depthwise_block-62',\n",
       "              OrderedDict([('input_shape', [-1, 1024, 2, 2]),\n",
       "                           ('output_shape', [-1, 1024, 2, 2]),\n",
       "                           ('nb_params', 0)])),\n",
       "             ('Linear-63',\n",
       "              OrderedDict([('input_shape', [-1, 1024]),\n",
       "                           ('output_shape', [-1, 10]),\n",
       "                           ('trainable', True),\n",
       "                           ('nb_params', 10250)]))])"
      ]
     },
     "execution_count": 11,
     "metadata": {},
     "output_type": "execute_result"
    }
   ],
   "source": [
    "learn.summary()"
   ]
  },
  {
   "cell_type": "code",
   "execution_count": 12,
   "metadata": {},
   "outputs": [
    {
     "name": "stdout",
     "output_type": "stream",
     "text": [
      "Total parameters in the model :2948426\n"
     ]
    }
   ],
   "source": [
    "total_model_params(learn.summary())"
   ]
  },
  {
   "cell_type": "code",
   "execution_count": 13,
   "metadata": {},
   "outputs": [
    {
     "data": {
      "application/vnd.jupyter.widget-view+json": {
       "model_id": "debd0299926d4011ad6729afad496faf",
       "version_major": 2,
       "version_minor": 0
      },
      "text/plain": [
       "HBox(children=(IntProgress(value=0, description='Epoch', max=10), HTML(value='')))"
      ]
     },
     "metadata": {},
     "output_type": "display_data"
    },
    {
     "name": "stdout",
     "output_type": "stream",
     "text": [
      "epoch      trn_loss   val_loss   accuracy                   \n",
      "    0      1.658271   1.54055    0.4264    \n",
      "    1      1.219879   1.13346    0.5998                     \n",
      "    2      1.001316   1.064548   0.6269                      \n",
      "    3      0.863693   0.855163   0.7005                      \n",
      "    4      0.780671   0.732126   0.7411                      \n",
      "    5      0.709401   0.654558   0.7681                      \n",
      "    6      0.638683   0.617586   0.7819                      \n",
      "    7      0.600552   0.588638   0.7917                      \n",
      "    8      0.579475   0.576877   0.7994                      \n",
      "    9      0.542689   0.573967   0.8005                      \n",
      "\n"
     ]
    },
    {
     "data": {
      "text/plain": [
       "[array([0.57397]), 0.8005]"
      ]
     },
     "execution_count": 13,
     "metadata": {},
     "output_type": "execute_result"
    }
   ],
   "source": [
    "learn.fit(1e-2, 1, cycle_len=10, best_save_name='mobilenetv1_n1', metrics=[accuracy])"
   ]
  },
  {
   "cell_type": "code",
   "execution_count": 14,
   "metadata": {
    "collapsed": true
   },
   "outputs": [
    {
     "data": {
      "application/vnd.jupyter.widget-view+json": {
       "model_id": "71dce489067543a8a24610626481a886",
       "version_major": 2,
       "version_minor": 0
      },
      "text/plain": [
       "HBox(children=(IntProgress(value=0, description='Epoch', max=30), HTML(value='')))"
      ]
     },
     "metadata": {},
     "output_type": "display_data"
    },
    {
     "name": "stdout",
     "output_type": "stream",
     "text": [
      "epoch      trn_loss   val_loss   accuracy                    \n",
      "    0      0.734268   0.865581   0.7052    \n",
      "    1      0.681313   0.730509   0.7529                      \n",
      "    2      0.618408   0.602464   0.7894                      \n",
      "    3      0.575283   0.585223   0.7992                      \n",
      "    4      0.529284   0.52204    0.8211                      \n",
      "    5      0.473791   0.502569   0.826                       \n",
      "    6      0.442099   0.477031   0.8367                      \n",
      "    7      0.400552   0.463427   0.8427                      \n",
      "    8      0.377184   0.456668   0.8453                      \n",
      "    9      0.386976   0.458852   0.8467                      \n",
      "    10     0.54537    0.598722   0.7977                      \n",
      "    11     0.502885   0.518392   0.8222                      \n",
      "    12     0.455833   0.527304   0.8213                      \n",
      "    13     0.416      0.480598   0.8372                      \n",
      "    14     0.375278   0.450425   0.8474                      \n",
      "    15     0.350501   0.423044   0.8563                      \n",
      "    16     0.314952   0.416745   0.8602                      \n",
      "    17     0.285335   0.404766   0.8639                      \n",
      "    18     0.277138   0.401507   0.868                       \n",
      "    19     0.269852   0.398782   0.8679                      \n",
      "    20     0.419964   0.484843   0.8383                      \n",
      "    21     0.408407   0.458936   0.8443                      \n",
      "    22     0.384548   0.511583   0.8313                      \n",
      "    23     0.353712   0.427141   0.8577                      \n",
      "    24     0.313676   0.430603   0.8571                      \n",
      "    25     0.27815    0.414458   0.8632                      \n",
      "    26     0.245046   0.396934   0.8719                      \n",
      "    27     0.215393   0.385899   0.8753                      \n",
      "    28     0.20743    0.383944   0.8772                      \n",
      "    29     0.208231   0.385328   0.8759                      \n",
      "\n"
     ]
    },
    {
     "data": {
      "text/plain": [
       "[array([0.38533]), 0.8759]"
      ]
     },
     "execution_count": 14,
     "metadata": {},
     "output_type": "execute_result"
    }
   ],
   "source": [
    "learn.fit(1e-2, 3, cycle_len=10, best_save_name='mobilenetv1_n1', metrics=[accuracy])"
   ]
  },
  {
   "cell_type": "code",
   "execution_count": null,
   "metadata": {},
   "outputs": [],
   "source": [
    "learn.fit(1e-2, 1, cycle_len=10, best_save_name='mobilenetv1_n1', metrics=[accuracy])"
   ]
  },
  {
   "cell_type": "code",
   "execution_count": null,
   "metadata": {},
   "outputs": [],
   "source": [
    "learn.fit(1e-2, 1, cycle_len=1, best_save_name='mobilenetv1_n1', metrics=[accuracy])"
   ]
  },
  {
   "cell_type": "code",
   "execution_count": null,
   "metadata": {},
   "outputs": [],
   "source": [
    "learn.fit(1e-2, 1, cycle_len=10, best_save_name='mobilenetv1_n1', metrics=[accuracy])"
   ]
  },
  {
   "cell_type": "code",
   "execution_count": 15,
   "metadata": {},
   "outputs": [
    {
     "data": {
      "application/vnd.jupyter.widget-view+json": {
       "model_id": "f6c30882545d435b9a053c9df41ae710",
       "version_major": 2,
       "version_minor": 0
      },
      "text/plain": [
       "HBox(children=(IntProgress(value=0, description='Epoch', max=30), HTML(value='')))"
      ]
     },
     "metadata": {},
     "output_type": "display_data"
    },
    {
     "name": "stdout",
     "output_type": "stream",
     "text": [
      "epoch      trn_loss   val_loss   accuracy                    \n",
      "    0      0.326854   0.484623   0.8427    \n",
      "    1      0.330356   0.434581   0.8569                      \n",
      "    2      0.312695   0.452508   0.8568                      \n",
      "    3      0.276165   0.424632   0.8631                      \n",
      "    4      0.256707   0.403921   0.8708                      \n",
      "    5      0.228414   0.391802   0.8735                      \n",
      "    6      0.203927   0.383796   0.8794                      \n",
      "    7      0.172687   0.381061   0.881                       \n",
      "    8      0.172657   0.380333   0.8808                      \n",
      "    9      0.159547   0.379263   0.8825                      \n",
      "    10     0.318153   0.441105   0.8561                      \n",
      "    11     0.299607   0.444676   0.8551                      \n",
      "    12     0.29193    0.425544   0.861                       \n",
      "    13     0.268321   0.454131   0.8553                      \n",
      "    14     0.25692    0.422625   0.8671                      \n",
      "    15     0.243094   0.407844   0.8682                      \n",
      "    16     0.22682    0.409602   0.8681                      \n",
      "    17     0.209122   0.400715   0.8756                      \n",
      "    18     0.188212   0.416014   0.8747                      \n",
      "    19     0.175533   0.394772   0.8786                      \n",
      "    20     0.151142   0.394776   0.8798                      \n",
      "    21     0.137277   0.411518   0.8807                      \n",
      "    22     0.127661   0.397118   0.8815                      \n",
      "    23     0.113573   0.403496   0.884                       \n",
      "    24     0.105179   0.401342   0.8872                       \n",
      "    25     0.0916     0.393638   0.8868                       \n",
      "    26     0.092075   0.397782   0.8864                       \n",
      "    27     0.090456   0.397979   0.8885                       \n",
      "    28     0.087075   0.396973   0.8892                       \n",
      "    29     0.08484    0.395672   0.8872                       \n",
      "\n"
     ]
    },
    {
     "data": {
      "text/plain": [
       "[array([0.39567]), 0.8872]"
      ]
     },
     "execution_count": 15,
     "metadata": {},
     "output_type": "execute_result"
    }
   ],
   "source": [
    "learn.fit(1e-2, 2, cycle_len=10, cycle_mult=2, best_save_name='mobilenetv1_n1', metrics=[accuracy])"
   ]
  },
  {
   "cell_type": "code",
   "execution_count": 16,
   "metadata": {},
   "outputs": [
    {
     "data": {
      "application/vnd.jupyter.widget-view+json": {
       "model_id": "eeed520868dc4e0786fc66adc883bf69",
       "version_major": 2,
       "version_minor": 0
      },
      "text/plain": [
       "HBox(children=(IntProgress(value=0, description='Epoch', max=30), HTML(value='')))"
      ]
     },
     "metadata": {},
     "output_type": "display_data"
    },
    {
     "name": "stdout",
     "output_type": "stream",
     "text": [
      "epoch      trn_loss   val_loss   accuracy                     \n",
      "    0      0.221751   0.480329   0.8598    \n",
      "    1      0.21646    0.466539   0.8594                      \n",
      "    2      0.189819   0.433004   0.8682                      \n",
      "    3      0.172524   0.413878   0.8761                      \n",
      "    4      0.149432   0.408873   0.8791                      \n",
      "    5      0.12198    0.402442   0.8826                      \n",
      "    6      0.100888   0.400838   0.8858                       \n",
      "    7      0.096934   0.396921   0.8888                       \n",
      "    8      0.072943   0.395847   0.8884                       \n",
      "    9      0.075447   0.394207   0.8883                       \n",
      "    10     0.203161   0.470915   0.8638                      \n",
      "    11     0.20792    0.424956   0.8729                      \n",
      "    12     0.190385   0.440949   0.872                       \n",
      "    13     0.170519   0.434269   0.8742                      \n",
      "    14     0.167191   0.43017    0.8756                      \n",
      "    15     0.154415   0.421929   0.878                       \n",
      "    16     0.140359   0.410017   0.8824                      \n",
      "    17     0.128466   0.42984    0.8806                      \n",
      "    18     0.121002   0.420869   0.8859                      \n",
      "    19     0.10102    0.441418   0.8839                       \n",
      "    20     0.095377   0.417644   0.8887                       \n",
      "    21     0.078045   0.426088   0.8882                       \n",
      "    22     0.071288   0.420083   0.8907                       \n",
      "    23     0.055547   0.42898    0.8941                       \n",
      "    24     0.053122   0.421736   0.8917                       \n",
      "    25     0.046988   0.422321   0.8922                       \n",
      "    26     0.051859   0.426378   0.8939                       \n",
      "    27     0.046895   0.421789   0.8931                       \n",
      "    28     0.04535    0.420837   0.8944                       \n",
      "    29     0.043578   0.42052    0.895                        \n",
      "\n"
     ]
    },
    {
     "data": {
      "text/plain": [
       "[array([0.42052]), 0.895]"
      ]
     },
     "execution_count": 16,
     "metadata": {},
     "output_type": "execute_result"
    }
   ],
   "source": [
    "learn.fit(1e-2, 2, cycle_len=10, cycle_mult=2, best_save_name='mobilenetv1_n1', metrics=[accuracy])"
   ]
  }
 ],
 "metadata": {
  "kernelspec": {
   "display_name": "Python 3",
   "language": "python",
   "name": "python3"
  },
  "language_info": {
   "codemirror_mode": {
    "name": "ipython",
    "version": 3
   },
   "file_extension": ".py",
   "mimetype": "text/x-python",
   "name": "python",
   "nbconvert_exporter": "python",
   "pygments_lexer": "ipython3",
   "version": "3.6.5"
  }
 },
 "nbformat": 4,
 "nbformat_minor": 2
}
